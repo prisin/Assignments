{
 "cells": [
  {
   "cell_type": "markdown",
   "metadata": {},
   "source": [
    "# Question1\n",
    "- Prove if Zipf’s Law works in Natural Language or not.\n"
   ]
  },
  {
   "cell_type": "code",
   "execution_count": 1,
   "metadata": {
    "collapsed": false
   },
   "outputs": [
    {
     "data": {
      "text/plain": [
       "<matplotlib.text.Text at 0x294d08c3fd0>"
      ]
     },
     "execution_count": 1,
     "metadata": {},
     "output_type": "execute_result"
    }
   ],
   "source": [
    "from glob import glob\n",
    "import re\n",
    "import glob\n",
    "import csv\n",
    "import matplotlib.pyplot as plt\n",
    "\n",
    "total_words =[] #Initialize an array\n",
    "words_freq = {}      # Initilize dictionary for word frequency\n",
    "words_freq1 = {}    # Initilize dictionary for word frequency in function\n",
    "top_words ={}       # Initilize dictionary for word frequency order \n",
    "rank =[]            #Initialize an array for storing results from csv file \n",
    "frequency =[]        #Initialize an array for storing results from csv file \n",
    "\n",
    "fig = plt.figure()          #Setting the figure to plot\n",
    "ax = fig.add_subplot(111)\n",
    "ax.set_xscale(\"log\")        #Setting the x axis to plot\n",
    "ax.set_yscale(\"log\")        #Setting the y axis to plot\n",
    "\n",
    "ax.set_xlim(1e0, 1e4)      #Setting the x axis limit from start to end\n",
    "ax.set_ylim(1e0, 1e4)      #Setting the y axis limit from start to end\n",
    "ax.set_aspect(1)\n",
    "ax.set_title(\"Calculation Results\")      #Setting the title to the figure\n",
    "\n"
   ]
  },
  {
   "cell_type": "code",
   "execution_count": 2,
   "metadata": {
    "collapsed": false
   },
   "outputs": [],
   "source": [
    "def newFile(files):                       # function to get all words from passed file\n",
    "    for file in files: \n",
    "        f=open(file, 'r') \n",
    "        for line in f:\n",
    "            for word in re.sub(\"[^\\w]\", \" \",  line).split():\n",
    "                total_words.append(word.lower())\n",
    "    f.close()\n",
    "    return total_words\n",
    "\n",
    "files = glob.glob('C://nltk_data//corpora//gutenberg//austen-persuasion.txt')  #opening the file from location\n",
    "words_file =newFile(files)                      #calling the function to get all words from file\n"
   ]
  },
  {
   "cell_type": "code",
   "execution_count": 3,
   "metadata": {
    "collapsed": false
   },
   "outputs": [],
   "source": [
    "def wordcount(words_file):               # function to check word frequency and add in a dictionary\n",
    "     for i in words_file:         \n",
    "        if i in words_freq1:\n",
    "            words_freq1[i]+=1\n",
    "        else:\n",
    "            words_freq1[i]=1\n",
    "     return  words_freq1    \n",
    "\n",
    "\n",
    "words_freq =wordcount(words_file)              #calling the function to get word frequency\n"
   ]
  },
  {
   "cell_type": "code",
   "execution_count": 4,
   "metadata": {
    "collapsed": false
   },
   "outputs": [],
   "source": [
    "top_words = sorted(words_freq, key=lambda k: words_freq[k], reverse=True) #sorting the word based on freq in decending order\n"
   ]
  },
  {
   "cell_type": "code",
   "execution_count": 5,
   "metadata": {
    "collapsed": true
   },
   "outputs": [],
   "source": [
    "count=0\n",
    "with open('wordRank.csv','w',newline='') as fp:         #Creating csv file and writing word,rank and frequecncy from result\n",
    "    writer=csv.writer(fp)\n",
    "    writer.writerow( ('Word', 'Rank', 'Frequency') )\n",
    "    for i in top_words:\n",
    "        count=count+1\n",
    "        writer.writerow((i ,count,words_freq[i]))  \n",
    "\n",
    "fp.close()        \n",
    "        "
   ]
  },
  {
   "cell_type": "code",
   "execution_count": 6,
   "metadata": {
    "collapsed": false
   },
   "outputs": [],
   "source": [
    "with open('wordRank.csv', 'r') as f:   #Reading csv file and adding all ranks and frequencies in an array\n",
    "    reader = csv.reader(f)\n",
    "    header = next(reader)\n",
    "    for row in reader:  \n",
    "        rank.append(row[1])\n",
    "        frequency.append(row[2])\n",
    "\n",
    "f.close()        "
   ]
  },
  {
   "cell_type": "code",
   "execution_count": 7,
   "metadata": {
    "collapsed": false
   },
   "outputs": [
    {
     "data": {
      "image/png": "[encoded data removed]",
      "text/plain": [
       "<matplotlib.figure.Figure at 0x294cb22a1d0>"
      ]
     },
     "metadata": {},
     "output_type": "display_data"
    }
   ],
   "source": [
    "ax.plot(frequency, rank, \"o-\")          #Ploting rank against frequency graph with array results stored\n",
    "plt.draw()\n",
    "plt.show()\n",
    "\n",
    "#Conclusion : most frequently occurring word 'the' in a text appears twice as often as the next most frequent word 'to'.\n"
   ]
  },
  {
   "cell_type": "code",
   "execution_count": null,
   "metadata": {
    "collapsed": true
   },
   "outputs": [],
   "source": []
  },
  {
   "cell_type": "code",
   "execution_count": null,
   "metadata": {
    "collapsed": true
   },
   "outputs": [],
   "source": []
  }
 ],
 "metadata": {
  "anaconda-cloud": {},
  "kernelspec": {
   "display_name": "Python [conda root]",
   "language": "python",
   "name": "conda-root-py"
  },
  "language_info": {
   "codemirror_mode": {
    "name": "ipython",
    "version": 3
   },
   "file_extension": ".py",
   "mimetype": "text/x-python",
   "name": "python",
   "nbconvert_exporter": "python",
   "pygments_lexer": "ipython3",
   "version": "3.5.2"
  }
 },
 "nbformat": 4,
 "nbformat_minor": 1
}
