{
 "cells": [
  {
   "cell_type": "markdown",
   "metadata": {},
   "source": [
    "# Question 2\n",
    "- Find out frequency of 26 characters.\n",
    "- List all 26 characters in order base on their frequency. (From most frequent to least frequent)."
   ]
  },
  {
   "cell_type": "code",
   "execution_count": 1,
   "metadata": {
    "collapsed": false
   },
   "outputs": [],
   "source": [
    "from nltk.corpus import gutenberg\n",
    "all_words = gutenberg.words('melville-moby_dick.txt')\n",
    "alpha = \"abcdefghijklmnopqrstuvwxyz\"\n",
    "freq_alpha = {}\n",
    "str1 = ''.join([i for i in all_words if i.isalpha()]).lower()\n"
   ]
  },
  {
   "cell_type": "code",
   "execution_count": 2,
   "metadata": {
    "collapsed": false
   },
   "outputs": [],
   "source": [
    "for i in str1:\n",
    "    if i in alpha:\n",
    "        if i in freq_alpha:\n",
    "            freq_alpha[i]+=1\n",
    "        else: \n",
    "            freq_alpha[i]=1\n"
   ]
  },
  {
   "cell_type": "code",
   "execution_count": 3,
   "metadata": {
    "collapsed": false
   },
   "outputs": [
    {
     "data": {
      "text/plain": [
       "[('e', 117092),\n",
       " ('t', 87982),\n",
       " ('a', 77916),\n",
       " ('o', 69326),\n",
       " ('n', 65616),\n",
       " ('i', 65434),\n",
       " ('s', 64227),\n",
       " ('h', 62886),\n",
       " ('r', 52134),\n",
       " ('l', 42789),\n",
       " ('d', 38216),\n",
       " ('u', 26697),\n",
       " ('m', 23277),\n",
       " ('c', 22507),\n",
       " ('w', 22222),\n",
       " ('f', 20833),\n",
       " ('g', 20820),\n",
       " ('p', 17255),\n",
       " ('b', 16877),\n",
       " ('y', 16872),\n",
       " ('v', 8598),\n",
       " ('k', 8059),\n",
       " ('q', 1556),\n",
       " ('j', 1082),\n",
       " ('x', 1030),\n",
       " ('z', 632)]"
      ]
     },
     "execution_count": 3,
     "metadata": {},
     "output_type": "execute_result"
    }
   ],
   "source": [
    "[(k, freq_alpha[k]) for k in sorted(freq_alpha, key=freq_alpha.get, reverse=True)]\n"
   ]
  },
  {
   "cell_type": "code",
   "execution_count": null,
   "metadata": {
    "collapsed": true
   },
   "outputs": [],
   "source": []
  }
 ],
 "metadata": {
  "anaconda-cloud": {},
  "kernelspec": {
   "display_name": "Python [default]",
   "language": "python",
   "name": "python3"
  },
  "language_info": {
   "codemirror_mode": {
    "name": "ipython",
    "version": 3
   },
   "file_extension": ".py",
   "mimetype": "text/x-python",
   "name": "python",
   "nbconvert_exporter": "python",
   "pygments_lexer": "ipython3",
   "version": "3.5.2"
  }
 },
 "nbformat": 4,
 "nbformat_minor": 1
}
