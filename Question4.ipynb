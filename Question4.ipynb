{
 "cells": [
  {
   "cell_type": "markdown",
   "metadata": {},
   "source": [
    "# Question 4\n",
    "- Find 'user121' and see how many posts he posted in all.\n",
    "- Find out how many unique user in each age range group. "
   ]
  },
  {
   "cell_type": "code",
   "execution_count": 21,
   "metadata": {
    "collapsed": false
   },
   "outputs": [
    {
     "name": "stdout",
     "output_type": "stream",
     "text": [
      "users with age: {'teens': 409, 'adults': 488, '30s': 59, '40s': 447, '20s': 309}\n",
      "posts of user121: [['i', 'do', \"n't\", 'want', 'hot', 'pics', 'of', 'a', 'female', ',', 'I', 'can', 'look', 'in', 'a', 'mirror', '.'], ['you', \"'re\", 'choice', 'U17'], ['lol'], ['hey', 'everyone'], ['JOIN'], ['JOIN'], ['JOIN'], ['yes', 'I', 'am'], ['hi', 'U37'], ['yah', 'it', 'will', 'take', 'a', 'few', 'weeks', 'for', 'it', 'to', 'kick', 'in'], ['k', 'then'], ['hey'], ['yes', 'U22'], ['JOIN'], ['i', 'luv', 'life']]\n"
     ]
    }
   ],
   "source": [
    "from nltk.corpus import nps_chat\n",
    "files = nps_chat.fileids() #Get all files and put them in list\n",
    "users ={}                  #Initialize dictionary for users\n",
    "user_post =[]\n",
    "group_users= {}\n",
    "post_with_age ={}\n",
    "\n",
    "for x in files:            #Iterating over each file        \n",
    "    for n in nps_chat.words(x): #Iterating over each word in file\n",
    "        if n.startswith('U') and n[1:].isdigit(): #checking if word is a username\n",
    "            if n in users:         # adding all users of each file in a dictionary\n",
    "                users[n]+=1\n",
    "            else:\n",
    "                users[n]=1\n",
    "    if x[6:-13] in group_users:      #counting all unique users in each file(each age group)    \n",
    "        group_users[x[6:-13]]+=len(users)\n",
    "    else: \n",
    "        group_users[x[6:-13]]=len(users)\n",
    "    \n",
    "for y in files:     \n",
    "    post121 = nps_chat.posts(y)\n",
    "    user_post.append(post121[123])\n",
    "        \n",
    "print('users in age group:', group_users )\n",
    "print(\"posts of user121:\" ,user_post)\n",
    "                        "
   ]
  },
  {
   "cell_type": "code",
   "execution_count": null,
   "metadata": {
    "collapsed": true
   },
   "outputs": [],
   "source": []
  },
  {
   "cell_type": "code",
   "execution_count": null,
   "metadata": {
    "collapsed": true
   },
   "outputs": [],
   "source": []
  },
  {
   "cell_type": "code",
   "execution_count": null,
   "metadata": {
    "collapsed": true
   },
   "outputs": [],
   "source": []
  }
 ],
 "metadata": {
  "anaconda-cloud": {},
  "kernelspec": {
   "display_name": "Python [conda root]",
   "language": "python",
   "name": "conda-root-py"
  },
  "language_info": {
   "codemirror_mode": {
    "name": "ipython",
    "version": 3
   },
   "file_extension": ".py",
   "mimetype": "text/x-python",
   "name": "python",
   "nbconvert_exporter": "python",
   "pygments_lexer": "ipython3",
   "version": "3.5.2"
  }
 },
 "nbformat": 4,
 "nbformat_minor": 1
}
