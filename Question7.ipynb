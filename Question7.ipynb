{
 "cells": [
  {
   "cell_type": "markdown",
   "metadata": {},
   "source": [
    "# Question 7\n",
    "- calculate the probability of a name being of a male or female base on the last character(s) of name."
   ]
  },
  {
   "cell_type": "code",
   "execution_count": 65,
   "metadata": {
    "collapsed": false
   },
   "outputs": [
    {
     "name": "stdout",
     "output_type": "stream",
     "text": [
      "['female.txt', 'male.txt']\n"
     ]
    }
   ],
   "source": [
    "from nltk.corpus import names\n",
    "all_names = names.fileids() #Adding all file names in a list\n",
    "print(all_names)\n"
   ]
  },
  {
   "cell_type": "code",
   "execution_count": 66,
   "metadata": {
    "collapsed": false
   },
   "outputs": [
    {
     "name": "stdout",
     "output_type": "stream",
     "text": [
      "probability of males:   [a] 0.3246951219512195\n",
      "probability of females: [a] 0.6753048780487805\n",
      "probability of males:   [b] 0.4128878281622912\n",
      "probability of females: [b] 0.5871121718377088\n",
      "probability of males:   [c] 0.2614173228346457\n",
      "probability of females: [c] 0.7385826771653543\n",
      "probability of males:   [d] 0.32158590308370044\n",
      "probability of females: [d] 0.6784140969162996\n",
      "probability of males:   [e] 0.3216216216216216\n",
      "probability of females: [e] 0.6783783783783783\n",
      "probability of males:   [f] 0.37662337662337664\n",
      "probability of females: [f] 0.6233766233766234\n",
      "probability of males:   [g] 0.42276422764227645\n",
      "probability of females: [g] 0.5772357723577236\n",
      "probability of males:   [h] 0.5679442508710801\n",
      "probability of females: [h] 0.43205574912891986\n",
      "probability of males:   [i] 0.3515625\n",
      "probability of females: [i] 0.6484375\n",
      "probability of males:   [j] 0.3295194508009153\n",
      "probability of females: [j] 0.6704805491990846\n",
      "probability of males:   [k] 0.2023121387283237\n",
      "probability of females: [k] 0.7976878612716763\n",
      "probability of males:   [l] 0.2539325842696629\n",
      "probability of females: [l] 0.7460674157303371\n",
      "probability of males:   [m] 0.29239766081871343\n",
      "probability of females: [m] 0.7076023391812866\n",
      "probability of males:   [n] 0.3276595744680851\n",
      "probability of females: [n] 0.6723404255319149\n",
      "probability of males:   [o] 0.4406779661016949\n",
      "probability of females: [o] 0.559322033898305\n",
      "probability of males:   [p] 0.45495495495495497\n",
      "probability of females: [p] 0.545045045045045\n",
      "probability of males:   [q] 0.625\n",
      "probability of females: [q] 0.375\n",
      "probability of males:   [r] 0.44742729306487694\n",
      "probability of females: [r] 0.5525727069351231\n",
      "probability of males:   [s] 0.4351005484460695\n",
      "probability of females: [s] 0.5648994515539305\n",
      "probability of males:   [t] 0.48704663212435234\n",
      "probability of females: [t] 0.5129533678756477\n",
      "probability of males:   [u] 0.6111111111111112\n",
      "probability of females: [u] 0.3888888888888889\n",
      "probability of males:   [v] 0.3225806451612903\n",
      "probability of females: [v] 0.6774193548387096\n",
      "probability of males:   [w] 0.7365853658536585\n",
      "probability of females: [w] 0.2634146341463415\n",
      "probability of males:   [x] 0.5833333333333334\n",
      "probability of females: [x] 0.4166666666666667\n",
      "probability of males:   [y] 0.47058823529411764\n",
      "probability of females: [y] 0.5294117647058824\n",
      "probability of males:   [z] 0.5\n",
      "probability of females: [z] 0.5\n"
     ]
    }
   ],
   "source": [
    "male_names=names.words('male.txt') #Adding all male names from file\n",
    "female_names=names.words('female.txt') #Adding all female names from file\n",
    "alpha = \"abcdefghijklmnopqrstuvwxyz\"\n",
    "males ={'a':0,'b':0,'c':0,'d':0,'e':0,'f':0,'g':0,'h':0,'i':0,'j':0,'k':0,'l':0,'m':0,'n':0,'o':0,'p':0,'q':0,\n",
    "        'r':0,'s':0,'t':0,'u':0,'v':0,'w':0,'x':0,'y':0,'z':0}\n",
    "females = {'a':0,'b':0,'c':0,'d':0,'e':0,'f':0,'g':0,'h':0,'i':0,'j':0,'k':0,'l':0,'m':0,'n':0,'o':0,'p':0,'q':0,\n",
    "        'r':0,'s':0,'t':0,'u':0,'v':0,'w':0,'x':0,'y':0,'z':0}\n",
    "total_names = {'a':0,'b':0,'c':0,'d':0,'e':0,'f':0,'g':0,'h':0,'i':0,'j':0,'k':0,'l':0,'m':0,'n':0,'o':0,'p':0,'q':0,\n",
    "        'r':0,'s':0,'t':0,'u':0,'v':0,'w':0,'x':0,'y':0,'z':0}\n",
    "probability_male = {'a':0,'b':0,'c':0,'d':0,'e':0,'f':0,'g':0,'h':0,'i':0,'j':0,'k':0,'l':0,'m':0,'n':0,'o':0,'p':0,'q':0,\n",
    "        'r':0,'s':0,'t':0,'u':0,'v':0,'w':0,'x':0,'y':0,'z':0}\n",
    "probability_female ={'a':0,'b':0,'c':0,'d':0,'e':0,'f':0,'g':0,'h':0,'i':0,'j':0,'k':0,'l':0,'m':0,'n':0,'o':0,'p':0,'q':0,\n",
    "        'r':0,'s':0,'t':0,'u':0,'v':0,'w':0,'x':0,'y':0,'z':0}\n",
    "for i in alpha:      #Iterating over each alphabet\n",
    "  for x in male_names: #Iterating over each male list of names\n",
    "    if x.lower().startswith(i):  #Checking if name starts with alphabet \n",
    "        males[i]+=1              #Updating the dictionary of male names based on alphabet\n",
    "        total_names[i]+=1\n",
    "  for y in female_names:  #Iterating over each female list of names\n",
    "    if y.lower().startswith(i):  #Checking if name starts with alphabet                     \n",
    "        females[i]+=1           \n",
    "        total_names[i]+=1\n",
    "        \n",
    "  probability_male[i]  =  males[i] / total_names[i]   #Calculating probability of male and female for each alphabet\n",
    "  probability_female[i] = females[i] / total_names[i]    \n",
    "  print('probability of males:   [' + i + \"] \" + str(probability_male[i]))\n",
    "  print('probability of females: [' + i + \"] \" + str(probability_female[i]))\n"
   ]
  },
  {
   "cell_type": "code",
   "execution_count": null,
   "metadata": {
    "collapsed": false
   },
   "outputs": [],
   "source": []
  },
  {
   "cell_type": "code",
   "execution_count": null,
   "metadata": {
    "collapsed": true
   },
   "outputs": [],
   "source": []
  }
 ],
 "metadata": {
  "anaconda-cloud": {},
  "kernelspec": {
   "display_name": "Python [conda root]",
   "language": "python",
   "name": "conda-root-py"
  },
  "language_info": {
   "codemirror_mode": {
    "name": "ipython",
    "version": 3
   },
   "file_extension": ".py",
   "mimetype": "text/x-python",
   "name": "python",
   "nbconvert_exporter": "python",
   "pygments_lexer": "ipython3",
   "version": "3.5.2"
  }
 },
 "nbformat": 4,
 "nbformat_minor": 1
}
