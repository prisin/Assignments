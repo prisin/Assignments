{
 "cells": [
  {
   "cell_type": "code",
   "execution_count": 32,
   "metadata": {
    "collapsed": false
   },
   "outputs": [],
   "source": [
    "import csv                                   #Importing all the packages needed\n",
    "import sys\n",
    "import pandas as pd\n",
    "import numpy as np\n",
    "import os\n",
    "import nltk\n",
    "from collections import Counter\n",
    "from nltk.corpus import stopwords\n",
    "stop_words = stopwords.words('english')\n",
    "import matplotlib.pyplot as plt"
   ]
  },
  {
   "cell_type": "code",
   "execution_count": 33,
   "metadata": {
    "collapsed": false
   },
   "outputs": [],
   "source": [
    "root ='..\\\\data'                                                  #Relative path where dataset is stored\n",
    "r = pd.read_csv(os.path.join(root,'reviews.csv'))                 #Get the dataset and store it in dataframe\n",
    "l = pd.read_csv(os.path.join(root,'listings.csv'))    #Get the dataset and store it in dataframe"
   ]
  },
  {
   "cell_type": "code",
   "execution_count": 34,
   "metadata": {
    "collapsed": true
   },
   "outputs": [],
   "source": [
    "def listingOfreviewer(name):                     #Function to get all the listings used by each reviewer\n",
    "    reviewer_listing=r.loc[r['reviewer_name'] == name, 'listing_id']\n",
    "    listingId=Counter(reviewer_listing).most_common(1)\n",
    "    for id in listingId:\n",
    "        return id[0]"
   ]
  },
  {
   "cell_type": "code",
   "execution_count": 35,
   "metadata": {
    "collapsed": false
   },
   "outputs": [],
   "source": [
    "def listingNeighbourhood(listingId):        #Function to get the Neighbourhood of the most listing used by reviewer\n",
    "    y=l.loc[l['id'] == listingId]\n",
    "    return y['neighbourhood']"
   ]
  },
  {
   "cell_type": "code",
   "execution_count": 36,
   "metadata": {
    "collapsed": false
   },
   "outputs": [
    {
     "data": {
      "text/plain": [
       "55"
      ]
     },
     "execution_count": 36,
     "metadata": {},
     "output_type": "execute_result"
    }
   ],
   "source": [
    "myfile = open('analysis2.csv', 'w', encoding='utf-8')  #Put the ouput of most frequent location used by visitor in a csv\n",
    "wr = csv.writer(myfile, quoting=csv.QUOTE_ALL)\n",
    "wr.writerow(('TotalReviewers','NameOfReviewer','FrequentVisitorIn'))"
   ]
  },
  {
   "cell_type": "code",
   "execution_count": 37,
   "metadata": {
    "collapsed": false
   },
   "outputs": [],
   "source": [
    "maxReveiwer=Counter(r['reviewer_name']).most_common(5)  #Get all the reviewer names from the dataset\n",
    "topReviewer=[]\n",
    "totalReviews=[]\n",
    "for name in maxReveiwer:\n",
    "    topReviewer.append(name[0])\n",
    "    totalReviews.append(name[1])\n",
    "    listingId=listingOfreviewer(name[0])               #Get all the listings of each host\n",
    "    neighbourhood=listingNeighbourhood(listingId)      #Get the most frequent location of visited by each vistor\n",
    "    for locationName in neighbourhood:\n",
    "        wr.writerow((name[1],name[0],locationName))\n"
   ]
  },
  {
   "cell_type": "code",
   "execution_count": 38,
   "metadata": {
    "collapsed": false
   },
   "outputs": [
    {
     "data": {
      "image/png": "[encoded data removed]",
      "text/plain": [
       "<matplotlib.figure.Figure at 0x2be6e42cf60>"
      ]
     },
     "metadata": {},
     "output_type": "display_data"
    }
   ],
   "source": [
    "y_pos = np.arange(len(topReviewer))\n",
    "plt.bar(y_pos, totalReviews, align='center', alpha=0.5)\n",
    "plt.suptitle('Top Reviewer', fontsize=20)\n",
    "plt.xticks(y_pos, topReviewer)\n",
    "plt.ylabel('Total Reviews')\n",
    " \n",
    "plt.show()\n",
    "plt.savefig('analysis2.png')"
   ]
  },
  {
   "cell_type": "code",
   "execution_count": null,
   "metadata": {
    "collapsed": true
   },
   "outputs": [],
   "source": []
  },
  {
   "cell_type": "code",
   "execution_count": null,
   "metadata": {
    "collapsed": true
   },
   "outputs": [],
   "source": []
  },
  {
   "cell_type": "code",
   "execution_count": null,
   "metadata": {
    "collapsed": true
   },
   "outputs": [],
   "source": []
  }
 ],
 "metadata": {
  "anaconda-cloud": {},
  "kernelspec": {
   "display_name": "Python [conda root]",
   "language": "python",
   "name": "conda-root-py"
  },
  "language_info": {
   "codemirror_mode": {
    "name": "ipython",
    "version": 3
   },
   "file_extension": ".py",
   "mimetype": "text/x-python",
   "name": "python",
   "nbconvert_exporter": "python",
   "pygments_lexer": "ipython3",
   "version": "3.5.2"
  }
 },
 "nbformat": 4,
 "nbformat_minor": 1
}
