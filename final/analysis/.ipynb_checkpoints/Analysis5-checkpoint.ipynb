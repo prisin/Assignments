{
 "cells": [
  {
   "cell_type": "code",
   "execution_count": 2,
   "metadata": {
    "collapsed": true
   },
   "outputs": [],
   "source": [
    "import csv\n",
    "import sys\n",
    "import pandas as pd\n",
    "import numpy as np\n",
    "import os\n",
    "import nltk\n",
    "import re\n",
    "from collections import Counter\n",
    "from nltk.corpus import stopwords"
   ]
  },
  {
   "cell_type": "code",
   "execution_count": null,
   "metadata": {
    "collapsed": true
   },
   "outputs": [],
   "source": [
    "root ='..\\\\data'  \n",
    "stop_words = stopwords.words('english')\n",
    "l = pd.read_csv(os.path.join(root,'listings.csv'))"
   ]
  },
  {
   "cell_type": "code",
   "execution_count": 3,
   "metadata": {
    "collapsed": true
   },
   "outputs": [],
   "source": [
    "def totalWords(sent): \n",
    "    words=[]\n",
    "    for word in re.sub(\"[^\\w]\", \" \",  sent).split():\n",
    "        if word.lower() not in stop_words and word.isalpha():\n",
    "            words.append(word)\n",
    "    return words"
   ]
  },
  {
   "cell_type": "code",
   "execution_count": 4,
   "metadata": {
    "collapsed": false
   },
   "outputs": [
    {
     "name": "stdout",
     "output_type": "stream",
     "text": [
      "[('Boston', 2414), ('apartment', 1209), ('room', 1056), ('walk', 1049), ('bedroom', 920), ('place', 887), ('kitchen', 790), ('bed', 695), ('restaurants', 693), ('located', 631), ('close', 586), ('private', 578), ('downtown', 567), ('home', 535), ('neighborhood', 518), ('location', 518), ('living', 507), ('floor', 494), ('street', 486), ('one', 486)]\n"
     ]
    }
   ],
   "source": [
    "l=l[l['summary'].notnull()]\n",
    "\n",
    "wordCount=[]\n",
    "for sent in l['summary']:\n",
    "    wordCount +=totalWords(sent)\n",
    "\n",
    "words_to_count = Counter(wordCount).most_common(20)\n",
    "print(words_to_count)"
   ]
  },
  {
   "cell_type": "code",
   "execution_count": null,
   "metadata": {
    "collapsed": true
   },
   "outputs": [],
   "source": []
  }
 ],
 "metadata": {
  "anaconda-cloud": {},
  "kernelspec": {
   "display_name": "Python [conda root]",
   "language": "python",
   "name": "conda-root-py"
  },
  "language_info": {
   "codemirror_mode": {
    "name": "ipython",
    "version": 3
   },
   "file_extension": ".py",
   "mimetype": "text/x-python",
   "name": "python",
   "nbconvert_exporter": "python",
   "pygments_lexer": "ipython3",
   "version": "3.5.2"
  }
 },
 "nbformat": 4,
 "nbformat_minor": 1
}
