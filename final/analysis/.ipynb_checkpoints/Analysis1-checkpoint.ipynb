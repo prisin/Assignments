{
 "cells": [
  {
   "cell_type": "code",
   "execution_count": 34,
   "metadata": {
    "collapsed": false
   },
   "outputs": [],
   "source": [
    "import csv                                      #Importing all the packages needed\n",
    "import sys\n",
    "import pandas as pd\n",
    "import numpy as np\n",
    "import os\n",
    "import nltk\n",
    "import re\n",
    "from nltk.corpus import stopwords\n",
    "stop_words = stopwords.words('english')\n",
    "import matplotlib.pyplot as plt"
   ]
  },
  {
   "cell_type": "code",
   "execution_count": 25,
   "metadata": {
    "collapsed": true
   },
   "outputs": [],
   "source": [
    "root ='..\\\\data'                                     #Relative path where dataset is stored \n",
    "r = pd.read_csv(os.path.join(root,'reviews.csv'))     #Get the dataset and store it in dataframe"
   ]
  },
  {
   "cell_type": "code",
   "execution_count": 26,
   "metadata": {
    "collapsed": false
   },
   "outputs": [
    {
     "data": {
      "text/plain": [
       "39"
      ]
     },
     "execution_count": 26,
     "metadata": {},
     "output_type": "execute_result"
    }
   ],
   "source": [
    "myfile = open('analysis1.csv', 'w', encoding='utf-8')      #Create the csv file to show the output\n",
    "wr = csv.writer(myfile, quoting=csv.QUOTE_ALL)\n",
    "wr.writerow(('Comment','SentimentalAnalysisResult'))"
   ]
  },
  {
   "cell_type": "code",
   "execution_count": 27,
   "metadata": {
    "collapsed": true
   },
   "outputs": [],
   "source": [
    "def readwords(filename):                         #Function to read file data and store it in a list\n",
    "    f = open(filename)\n",
    "    words = [ line.rstrip() for line in f.readlines()]\n",
    "    return words"
   ]
  },
  {
   "cell_type": "code",
   "execution_count": 28,
   "metadata": {
    "collapsed": false
   },
   "outputs": [],
   "source": [
    "positive = readwords('pos.txt')                #Calling the function to get all positive words from file\n",
    "negative = readwords('neg.txt')                #Calling the function to get all negative words from file"
   ]
  },
  {
   "cell_type": "code",
   "execution_count": 29,
   "metadata": {
    "collapsed": false
   },
   "outputs": [],
   "source": [
    "def wordcount(sent):                          #Function to filter words from sentences to get only alphabets and remove stop words\n",
    "    words=[]\n",
    "    for word in re.sub(\"[^\\w]\", \" \",  sent).split():\n",
    "        if word not in stop_words and word.isalpha():\n",
    "            words.append(word)\n",
    "    return words\n"
   ]
  },
  {
   "cell_type": "code",
   "execution_count": 30,
   "metadata": {
    "collapsed": true
   },
   "outputs": [],
   "source": [
    "def checksenti(words):                     #Function to compare if word used is pos, negative or neutral from list\n",
    "    senti=0\n",
    "    for word in words:\n",
    "        if word.lower() in positive:\n",
    "            senti+=1\n",
    "        if word.lower() in negative:\n",
    "            senti-=1\n",
    "    if senti >0:\n",
    "        return 'positive'\n",
    "    if senti <0:\n",
    "        return 'negative'\n",
    "    if senti==0:\n",
    "        return 'neutral'"
   ]
  },
  {
   "cell_type": "code",
   "execution_count": 31,
   "metadata": {
    "collapsed": false
   },
   "outputs": [],
   "source": [
    "r=r[r['comments'].notnull()]            #Remove all the rows where their is no comments\n",
    "commentCount=0\n",
    "posComment=0\n",
    "negComment=0\n",
    "neutralComment=0\n",
    "for sent in r['comments']:  \n",
    "    commentCount+=1\n",
    "    words_freq =wordcount(sent)         #Get words from each comment\n",
    "    result=checksenti(words_freq)       #Check if the comment is positive,Negative or neutral\n",
    "    if result == 'positive':\n",
    "        posComment+=1\n",
    "    if result == 'negative':\n",
    "        negComment+=1\n",
    "    if result == 'neutral':\n",
    "        neutralComment+=1    \n",
    "    wr.writerow((sent,result))          #Put the output in an excel sheet\n"
   ]
  },
  {
   "cell_type": "code",
   "execution_count": 38,
   "metadata": {
    "collapsed": false
   },
   "outputs": [
    {
     "data": {
      "image/png": "[encoded data removed]",
      "text/plain": [
       "<matplotlib.figure.Figure at 0x25e45e82cf8>"
      ]
     },
     "metadata": {},
     "output_type": "display_data"
    }
   ],
   "source": [
    "comment=[posComment,negComment,neutralComment]\n",
    "senti=['Positive','Negative','Neutral']\n",
    "y_pos = np.arange(len(comment))\n",
    "plt.bar(y_pos, comment, align='center', alpha=0.5)\n",
    "plt.suptitle('Sentimental Analysis', fontsize=20)\n",
    "plt.xticks(y_pos, senti)\n",
    "plt.ylabel('Comments')\n",
    " \n",
    "plt.show()\n",
    "plt.savefig('analysis2.png')"
   ]
  },
  {
   "cell_type": "code",
   "execution_count": null,
   "metadata": {
    "collapsed": true
   },
   "outputs": [],
   "source": []
  }
 ],
 "metadata": {
  "anaconda-cloud": {},
  "kernelspec": {
   "display_name": "Python [conda root]",
   "language": "python",
   "name": "conda-root-py"
  },
  "language_info": {
   "codemirror_mode": {
    "name": "ipython",
    "version": 3
   },
   "file_extension": ".py",
   "mimetype": "text/x-python",
   "name": "python",
   "nbconvert_exporter": "python",
   "pygments_lexer": "ipython3",
   "version": "3.5.2"
  }
 },
 "nbformat": 4,
 "nbformat_minor": 1
}
