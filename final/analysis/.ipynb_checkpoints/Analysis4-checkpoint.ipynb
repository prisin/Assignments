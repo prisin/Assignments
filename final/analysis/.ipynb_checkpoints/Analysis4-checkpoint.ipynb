{
 "cells": [
  {
   "cell_type": "code",
   "execution_count": 40,
   "metadata": {
    "collapsed": true
   },
   "outputs": [],
   "source": [
    "import csv\n",
    "import sys\n",
    "import pandas as pd\n",
    "import numpy as np\n",
    "import os\n",
    "import nltk\n",
    "from collections import Counter\n",
    "from nltk.corpus import stopwords\n",
    "import matplotlib.pyplot as plt\n"
   ]
  },
  {
   "cell_type": "code",
   "execution_count": 41,
   "metadata": {
    "collapsed": false
   },
   "outputs": [],
   "source": [
    "root ='..\\\\data'  \n",
    "l = pd.read_csv(os.path.join(root,'listings.csv'))\n"
   ]
  },
  {
   "cell_type": "code",
   "execution_count": 42,
   "metadata": {
    "collapsed": false
   },
   "outputs": [
    {
     "data": {
      "text/plain": [
       "66"
      ]
     },
     "execution_count": 42,
     "metadata": {},
     "output_type": "execute_result"
    }
   ],
   "source": [
    "myfile = open('analysis4.csv', 'w', encoding='utf-8')\n",
    "wr = csv.writer(myfile, quoting=csv.QUOTE_ALL)\n",
    "wr.writerow(('HostName','TotalListings','ListingIds','MeanPrice','MeanRating'))"
   ]
  },
  {
   "cell_type": "code",
   "execution_count": 43,
   "metadata": {
    "collapsed": true
   },
   "outputs": [],
   "source": [
    "l['price']=l['price'].replace( '[\\$,)]','', regex=True ).astype(float)"
   ]
  },
  {
   "cell_type": "code",
   "execution_count": 44,
   "metadata": {
    "collapsed": false
   },
   "outputs": [],
   "source": [
    "def getAllListing(name):\n",
    "    listings=l[l['host_name']== name].id.tolist()\n",
    "    return listings\n"
   ]
  },
  {
   "cell_type": "code",
   "execution_count": 45,
   "metadata": {
    "collapsed": true
   },
   "outputs": [],
   "source": [
    "def getMeanPrice(listings):\n",
    "    price=l[l['id'].isin(listings)]['price'].mean()\n",
    "    return price\n"
   ]
  },
  {
   "cell_type": "code",
   "execution_count": 46,
   "metadata": {
    "collapsed": true
   },
   "outputs": [],
   "source": [
    "def getMeanReview(name):\n",
    "    meanReview=l[l['id'].isin(listings)]['review_scores_rating'].mean()\n",
    "    return meanReview\n"
   ]
  },
  {
   "cell_type": "code",
   "execution_count": 47,
   "metadata": {
    "collapsed": false
   },
   "outputs": [],
   "source": [
    "l=l[l['host_name'].notnull()]\n",
    "hostName = [name for name in l['host_name']]\n",
    "topHosts=Counter(hostName).most_common(5)\n",
    "meanPrice=[]\n",
    "meanReview=[]\n",
    "host=[]\n",
    "for hostName in topHosts:\n",
    "     host.append(hostName[0])\n",
    "     listings=getAllListing(hostName[0])\n",
    "     meanPrice.append(getMeanPrice(listings)) \n",
    "     meanReview.append(getMeanReview(listings))  \n",
    "     wr.writerow((hostName[0],hostName[1],listings,meanPrice,meanReview))"
   ]
  },
  {
   "cell_type": "code",
   "execution_count": 48,
   "metadata": {
    "collapsed": false
   },
   "outputs": [
    {
     "data": {
      "image/png": "[encoded data removed]",
      "text/plain": [
       "<matplotlib.figure.Figure at 0x1c69077db70>"
      ]
     },
     "metadata": {},
     "output_type": "display_data"
    }
   ],
   "source": [
    "y_pos = np.arange(len(topHosts))\n",
    "plt.bar(y_pos, meanPrice, align='center', alpha=0.5)\n",
    "plt.suptitle('Top Hosts', fontsize=20)\n",
    "plt.xticks(y_pos, host)\n",
    "plt.ylabel('MeanPrice')\n",
    " \n",
    "plt.show()\n",
    "plt.savefig('analysis4a.png')\n"
   ]
  },
  {
   "cell_type": "code",
   "execution_count": 49,
   "metadata": {
    "collapsed": false
   },
   "outputs": [
    {
     "data": {
      "image/png": "[encoded data removed]",
      "text/plain": [
       "<matplotlib.figure.Figure at 0x1c691615668>"
      ]
     },
     "metadata": {},
     "output_type": "display_data"
    }
   ],
   "source": [
    "y_pos = np.arange(len(topHosts))\n",
    "plt.bar(y_pos, meanReview, align='center', alpha=0.5)\n",
    "plt.suptitle('Top Hosts', fontsize=10)\n",
    "plt.xticks(y_pos, host)\n",
    "plt.ylabel('MeanRating')\n",
    " \n",
    "plt.show()\n",
    "plt.savefig('analysis4b.png')\n"
   ]
  },
  {
   "cell_type": "code",
   "execution_count": null,
   "metadata": {
    "collapsed": true
   },
   "outputs": [],
   "source": []
  }
 ],
 "metadata": {
  "anaconda-cloud": {},
  "kernelspec": {
   "display_name": "Python [conda root]",
   "language": "python",
   "name": "conda-root-py"
  },
  "language_info": {
   "codemirror_mode": {
    "name": "ipython",
    "version": 3
   },
   "file_extension": ".py",
   "mimetype": "text/x-python",
   "name": "python",
   "nbconvert_exporter": "python",
   "pygments_lexer": "ipython3",
   "version": "3.5.2"
  }
 },
 "nbformat": 4,
 "nbformat_minor": 1
}
