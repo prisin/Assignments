{
 "cells": [
  {
   "cell_type": "markdown",
   "metadata": {},
   "source": [
    "# Question2 Part1\n",
    "\n",
    "- Find out the highest paid departments in each organization group by calculating mean of total compensation for every   department."
   ]
  },
  {
   "cell_type": "code",
   "execution_count": 7,
   "metadata": {
    "collapsed": true
   },
   "outputs": [],
   "source": [
    "import pandas as pd\n",
    "import datetime\n",
    "import csv\n",
    "import calendar\n",
    "from pandas import Series, DataFrame\n"
   ]
  },
  {
   "cell_type": "code",
   "execution_count": 21,
   "metadata": {
    "collapsed": false
   },
   "outputs": [
    {
     "name": "stdout",
     "output_type": "stream",
     "text": [
      "                 Organization Group       Department  Total Compensation\n",
      "0              Culture & Recreation      Law Library       188424.362222\n",
      "1                 Public Protection  Fire Department       180788.086979\n",
      "2  General Administration & Finance    City Attorney       166082.677561\n",
      "3                 Public Protection  Public Defender       147552.185739\n",
      "4                 Public Protection           Police       141263.701729\n"
     ]
    }
   ],
   "source": [
    "#Reading data from csv\n",
    "df = pd.read_csv(\"employee_compensation.csv\",usecols=['Organization Group','Department','Total Benefits','Total Compensation'])\n",
    "#Grouping data and finding average \n",
    "df=df.groupby(['Organization Group','Department'])['Total Compensation'].mean().reset_index()\n",
    "#Sorting the compensation\n",
    "df=df.sort_values('Total Compensation', ascending=False)\n",
    "df = df.reset_index(drop=True)\n",
    "#Displaying the output\n",
    "print(df.head())\n"
   ]
  },
  {
   "cell_type": "code",
   "execution_count": 22,
   "metadata": {
    "collapsed": false
   },
   "outputs": [],
   "source": [
    "#Saving the file\n",
    "df.to_csv(\"Q2P1.csv\")"
   ]
  },
  {
   "cell_type": "code",
   "execution_count": null,
   "metadata": {
    "collapsed": true
   },
   "outputs": [],
   "source": []
  },
  {
   "cell_type": "code",
   "execution_count": null,
   "metadata": {
    "collapsed": true
   },
   "outputs": [],
   "source": []
  }
 ],
 "metadata": {
  "anaconda-cloud": {},
  "kernelspec": {
   "display_name": "Python [conda root]",
   "language": "python",
   "name": "conda-root-py"
  },
  "language_info": {
   "codemirror_mode": {
    "name": "ipython",
    "version": 3
   },
   "file_extension": ".py",
   "mimetype": "text/x-python",
   "name": "python",
   "nbconvert_exporter": "python",
   "pygments_lexer": "ipython3",
   "version": "3.5.2"
  }
 },
 "nbformat": 4,
 "nbformat_minor": 1
}
