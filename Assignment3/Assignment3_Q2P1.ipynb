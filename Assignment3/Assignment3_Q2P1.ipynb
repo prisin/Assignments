{
 "cells": [
  {
   "cell_type": "markdown",
   "metadata": {},
   "source": [
    "# Question2 Part1\n",
    "\n",
    "- Find out the highest paid departments in each organization group by calculating mean of total compensation for every   department."
   ]
  },
  {
   "cell_type": "code",
   "execution_count": 7,
   "metadata": {
    "collapsed": true
   },
   "outputs": [],
   "source": [
    "import pandas as pd\n",
    "import datetime\n",
    "import csv\n",
    "import calendar\n",
    "from pandas import Series, DataFrame\n"
   ]
  },
  {
   "cell_type": "code",
   "execution_count": 9,
   "metadata": {
    "collapsed": false
   },
   "outputs": [],
   "source": [
    "df = pd.read_csv(\"employee_compensation.csv\",usecols=['Year','Organization Group','Department','Total Benefits','Total Compensation'])\n",
    "    \n",
    "df=df.groupby(['Organization Group','Department'])['Total Compensation'].mean().reset_index()\n",
    "df1=df.sort_values('Total Compensation', ascending=False)\n",
    "\n",
    "with open('Q2P1.csv', 'w') as outcsv:\n",
    "    writer = csv.writer(outcsv)\n",
    "    writer.writerow([\"Organization Group\", \"Department\", \"Total Compensation\"])\n",
    "    writer.writerow([df['Organization Group'],df['Department'],df['Total Compensation']])\n",
    "\n",
    "outcsv.close()"
   ]
  },
  {
   "cell_type": "code",
   "execution_count": null,
   "metadata": {
    "collapsed": true
   },
   "outputs": [],
   "source": []
  }
 ],
 "metadata": {
  "anaconda-cloud": {},
  "kernelspec": {
   "display_name": "Python [conda root]",
   "language": "python",
   "name": "conda-root-py"
  },
  "language_info": {
   "codemirror_mode": {
    "name": "ipython",
    "version": 3
   },
   "file_extension": ".py",
   "mimetype": "text/x-python",
   "name": "python",
   "nbconvert_exporter": "python",
   "pygments_lexer": "ipython3",
   "version": "3.5.2"
  }
 },
 "nbformat": 4,
 "nbformat_minor": 1
}
