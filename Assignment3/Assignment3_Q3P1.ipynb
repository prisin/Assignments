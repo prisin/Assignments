{
 "cells": [
  {
   "cell_type": "markdown",
   "metadata": {},
   "source": [
    "# Question3 Part1\n",
    "\n",
    "- Calculate the average score for each team which host the game and win the game. "
   ]
  },
  {
   "cell_type": "code",
   "execution_count": 5,
   "metadata": {
    "collapsed": true
   },
   "outputs": [],
   "source": [
    "import pandas as pd\n",
    "import datetime\n",
    "import csv\n",
    "import calendar"
   ]
  },
  {
   "cell_type": "code",
   "execution_count": 6,
   "metadata": {
    "collapsed": false
   },
   "outputs": [
    {
     "name": "stdout",
     "output_type": "stream",
     "text": [
      "home\n",
      "Abahani Limited       172.000000\n",
      "Abbottabad Falcons    139.454545\n",
      "Abbottabad Region     182.666667\n",
      "Abbottabad Rhinos     165.000000\n",
      "Adelaide Strikers     163.111111\n",
      "Name: innings_max, dtype: float64\n"
     ]
    }
   ],
   "source": [
    "df = pd.read_csv(\"cricket_matches.csv\") #Reading data from file\n",
    "df=df[df['home']== df['winner']] #filtering data with host is same as winner\n",
    "df['innings_max']=df[['innings1_runs','innings2_runs']].max(axis=1) #finding the max of two innings\n",
    "df_result=df.groupby('home')['innings_max'].mean() #grouping data with max innings mean\n",
    "print(df_result.head()) #showing the result\n"
   ]
  },
  {
   "cell_type": "code",
   "execution_count": 7,
   "metadata": {
    "collapsed": false
   },
   "outputs": [],
   "source": [
    "df_result.to_csv(\"Q3P1.csv\")  #saving ouput to csv\n"
   ]
  },
  {
   "cell_type": "code",
   "execution_count": null,
   "metadata": {
    "collapsed": true
   },
   "outputs": [],
   "source": []
  }
 ],
 "metadata": {
  "kernelspec": {
   "display_name": "Python [conda root]",
   "language": "python",
   "name": "conda-root-py"
  },
  "language_info": {
   "codemirror_mode": {
    "name": "ipython",
    "version": 3
   },
   "file_extension": ".py",
   "mimetype": "text/x-python",
   "name": "python",
   "nbconvert_exporter": "python",
   "pygments_lexer": "ipython3",
   "version": "3.5.2"
  }
 },
 "nbformat": 4,
 "nbformat_minor": 1
}
