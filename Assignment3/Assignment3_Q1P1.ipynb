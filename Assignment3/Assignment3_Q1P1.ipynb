{
 "cells": [
  {
   "cell_type": "markdown",
   "metadata": {},
   "source": [
    "# Question1 Part1\n",
    "\n",
    "- For each month in 2016, find out the percentage of collisions in Manhattan out of that year's total accidents in New   York City."
   ]
  },
  {
   "cell_type": "code",
   "execution_count": 2,
   "metadata": {
    "collapsed": false
   },
   "outputs": [],
   "source": [
    "import pandas as pd\n",
    "import datetime\n",
    "import csv\n",
    "import calendar"
   ]
  },
  {
   "cell_type": "code",
   "execution_count": 3,
   "metadata": {
    "collapsed": false
   },
   "outputs": [
    {
     "name": "stdout",
     "output_type": "stream",
     "text": [
      "           UNIQUE KEY  DATE  TIME  BOROUGH  ZIP CODE  LATITUDE  LONGITUDE  \\\n",
      "DATE DATE                                                                   \n",
      "1    2015        2875  2875  2875     2875      2875      2875       2875   \n",
      "     2016        3178  3178  3178     3178      3178      3177       3177   \n",
      "     2017        2295  2295  2295     2295      2295      2219       2219   \n",
      "2    2015        2670  2670  2670     2670      2670      2670       2670   \n",
      "     2016        3195  3195  3195     3195      3195      3194       3194   \n",
      "\n",
      "           LOCATION  ON STREET NAME  CROSS STREET NAME        ...         \\\n",
      "DATE DATE                                                     ...          \n",
      "1    2015      2875            2851               2851        ...          \n",
      "     2016      3177            3140               3140        ...          \n",
      "     2017      2219            1511               1511        ...          \n",
      "2    2015      2670            2645               2645        ...          \n",
      "     2016      3194            3167               3167        ...          \n",
      "\n",
      "           VEHICLE 1 TYPE  VEHICLE 2 TYPE  VEHICLE 3 TYPE  VEHICLE 4 TYPE  \\\n",
      "DATE DATE                                                                   \n",
      "1    2015            2871            2542             100              14   \n",
      "     2016            3177            2823             107              19   \n",
      "     2017            2200            1412              65              23   \n",
      "2    2015            2669            2371              80               6   \n",
      "     2016            3195            2830              90              18   \n",
      "\n",
      "           VEHICLE 5 TYPE  VEHICLE 1 FACTOR  VEHICLE 2 FACTOR  \\\n",
      "DATE DATE                                                       \n",
      "1    2015               2              2858              2455   \n",
      "     2016               5              3153              2712   \n",
      "     2017               4              2276              1799   \n",
      "2    2015               2              2662              2290   \n",
      "     2016               7              3168              2701   \n",
      "\n",
      "           VEHICLE 3 FACTOR  VEHICLE 4 FACTOR  VEHICLE 5 FACTOR  \n",
      "DATE DATE                                                        \n",
      "1    2015               102                14                 2  \n",
      "     2016               107                20                 5  \n",
      "     2017                79                30                 6  \n",
      "2    2015                79                 6                 2  \n",
      "     2016                91                18                 6  \n",
      "\n",
      "[5 rows x 29 columns]\n",
      "           UNIQUE KEY   DATE   TIME  BOROUGH  ZIP CODE  LATITUDE  LONGITUDE  \\\n",
      "DATE DATE                                                                     \n",
      "1    2015       16120  16120  16120    12411     12410     13713      13713   \n",
      "     2016       18101  18101  18101    13954     13953     15398      15398   \n",
      "     2017       17243  17243  17243    10876     10874     13891      13891   \n",
      "2    2015       15712  15712  15712    10919     10917     12222      12222   \n",
      "     2016       15985  15985  15985    12173     12173     13560      13560   \n",
      "\n",
      "           LOCATION  ON STREET NAME  CROSS STREET NAME        ...         \\\n",
      "DATE DATE                                                     ...          \n",
      "1    2015     13713           13932              13932        ...          \n",
      "     2016     15398           15506              15467        ...          \n",
      "     2017     13891           11559               8768        ...          \n",
      "2    2015     12222           13530              13530        ...          \n",
      "     2016     13560           13547              13534        ...          \n",
      "\n",
      "           VEHICLE 1 TYPE  VEHICLE 2 TYPE  VEHICLE 3 TYPE  VEHICLE 4 TYPE  \\\n",
      "DATE DATE                                                                   \n",
      "1    2015           16114           14077            1134             251   \n",
      "     2016           18094           16051            1071             229   \n",
      "     2017           16730           11337            1039             297   \n",
      "2    2015           15709           14070             965             213   \n",
      "     2016           15983           14090             956             206   \n",
      "\n",
      "           VEHICLE 5 TYPE  VEHICLE 1 FACTOR  VEHICLE 2 FACTOR  \\\n",
      "DATE DATE                                                       \n",
      "1    2015              63             16078             13903   \n",
      "     2016              72             18026             15756   \n",
      "     2017              71             17130             13782   \n",
      "2    2015              46             15668             13802   \n",
      "     2016              64             15922             13818   \n",
      "\n",
      "           VEHICLE 3 FACTOR  VEHICLE 4 FACTOR  VEHICLE 5 FACTOR  \n",
      "DATE DATE                                                        \n",
      "1    2015              1152               257                63  \n",
      "     2016              1068               235                70  \n",
      "     2017              1189               345                81  \n",
      "2    2015               971               211                46  \n",
      "     2016               962               207                64  \n",
      "\n",
      "[5 rows x 29 columns]\n",
      "3178\n",
      "3195\n",
      "3479\n",
      "3540\n",
      "3432\n",
      "2956\n",
      "3055\n",
      "2844\n",
      "2744\n",
      "2831\n",
      "2838\n",
      "2634\n"
     ]
    }
   ],
   "source": [
    "df = pd.read_csv(\"vehicle_collisions.csv\") #Read the csv dataset\n",
    "df['DATE'] = pd.to_datetime(df['DATE']) #changing the date to date type\n",
    "count_manhattan=[]                      #Initializing the list to add data\n",
    "count_total=[]\n",
    "percentage_count=[]\n",
    "\n",
    "#group by month and putting conidion to get count of collision in Manhattan\n",
    "man_count=df[df['BOROUGH']== 'MANHATTAN'].groupby([df['DATE'].dt.month,df['DATE'].dt.year]).agg('count') \n",
    "#group by month to get total count of collisions\n",
    "total_count=df.groupby([df['DATE'].dt.month,df['DATE'].dt.year]).agg('count')\n",
    "    \n",
    "count_manhattan=man_count['UNIQUE KEY'].values\n",
    "count_total=total_count['UNIQUE KEY'].values\n",
    "\n",
    "#Displaying few rows of output\n",
    "print(man_count.head(5))\n",
    "print(total_count.head(5))\n",
    "\n",
    "i=1\n",
    "j=1\n",
    "man_len=len(count_manhattan)\n",
    "total_len=len(total_count)\n",
    "\n",
    "#Putting the count,total count with month in a csv file\n",
    "with open('Q1P1.csv', 'w') as outcsv:\n",
    "    writer = csv.writer(outcsv)\n",
    "    writer.writerow([\"MONTH\", \"MANHATTAN\", \"NYC\", \"PERCENTAGE\"])\n",
    "    while i<man_len and  j< 13:\n",
    "        print(count_manhattan[i])\n",
    "        writer.writerow([calendar.month_name[j],count_manhattan[i],count_total[i],count_manhattan[i]/count_total[i]])\n",
    "        if j==1 or j==2:\n",
    "            i+=3\n",
    "        else :\n",
    "            i+=2\n",
    "            \n",
    "        j+=1\n",
    "    \n",
    "outcsv.close()"
   ]
  },
  {
   "cell_type": "code",
   "execution_count": null,
   "metadata": {
    "collapsed": false
   },
   "outputs": [],
   "source": []
  },
  {
   "cell_type": "code",
   "execution_count": null,
   "metadata": {
    "collapsed": true
   },
   "outputs": [],
   "source": []
  },
  {
   "cell_type": "code",
   "execution_count": null,
   "metadata": {
    "collapsed": true
   },
   "outputs": [],
   "source": []
  }
 ],
 "metadata": {
  "anaconda-cloud": {},
  "kernelspec": {
   "display_name": "Python [conda root]",
   "language": "python",
   "name": "conda-root-py"
  },
  "language_info": {
   "codemirror_mode": {
    "name": "ipython",
    "version": 3
   },
   "file_extension": ".py",
   "mimetype": "text/x-python",
   "name": "python",
   "nbconvert_exporter": "python",
   "pygments_lexer": "ipython3",
   "version": "3.5.2"
  }
 },
 "nbformat": 4,
 "nbformat_minor": 1
}
