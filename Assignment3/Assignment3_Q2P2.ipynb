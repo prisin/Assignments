{
 "cells": [
  {
   "cell_type": "markdown",
   "metadata": {},
   "source": [
    "# Question2 Part2\n",
    "\n",
    "- Filter data by calendar year and find average salary.\n",
    "- Find the people whose overtime salary is greater than 5% of salaries.\n",
    "- calculate the percentage of total benefits with respect to total compensation. "
   ]
  },
  {
   "cell_type": "code",
   "execution_count": 1,
   "metadata": {
    "collapsed": true
   },
   "outputs": [],
   "source": [
    "import pandas as pd\n",
    "import datetime\n",
    "import csv\n",
    "import calendar"
   ]
  },
  {
   "cell_type": "code",
   "execution_count": 8,
   "metadata": {
    "collapsed": false
   },
   "outputs": [
    {
     "name": "stdout",
     "output_type": "stream",
     "text": [
      "      Total Compensation  Total Benefits\n",
      "Year                                    \n",
      "2013        97872.718129    25849.367803\n",
      "2014        97087.853954    26869.741976\n",
      "2015        97807.731425    26887.675500\n",
      "2016       102657.521913    27014.643744\n"
     ]
    }
   ],
   "source": [
    "df = pd.read_csv(\"employee_compensation.csv\") #Reading csv file\n",
    "#Filter data by calendar year and find average salary\n",
    "df_agg=df.groupby('Year')['Total Compensation','Total Benefits','Total Salary'].mean()\n",
    "\n",
    "print(df_agg)"
   ]
  },
  {
   "cell_type": "code",
   "execution_count": 3,
   "metadata": {
    "collapsed": false
   },
   "outputs": [
    {
     "name": "stdout",
     "output_type": "stream",
     "text": [
      "        Employee Identifier  Overtime  Total Salary\n",
      "14                    23029  17039.61      83201.84\n",
      "48                    21411  21275.41      95508.35\n",
      "53                    11329  18156.52      86746.54\n",
      "63                    12417  36666.93     154994.12\n",
      "64                    19192  41635.16     118971.36\n",
      "65                    23624  23398.16      94127.75\n",
      "81                    14413   3024.42      15108.46\n",
      "91                    10671  15449.77      69363.97\n",
      "108                   20120  41263.20     125181.34\n",
      "120                    5436  54663.30     208312.97\n",
      "135                   20257  21970.48      94283.44\n",
      "156                    1197  57855.28     195148.63\n",
      "159                   26466  45387.59     179397.80\n",
      "166                   22927  21923.23     107088.63\n",
      "170                   43259  43434.77     175790.67\n",
      "172                   10034  37475.02     128164.72\n",
      "176                   44478  34780.12     110851.90\n",
      "180                    8883  31232.25      97200.88\n",
      "200                   52074  13344.46      65383.92\n",
      "202                    7829  20624.66      79697.69\n",
      "227                   36798  48915.49     162704.35\n",
      "248                   46870  29999.53     118437.24\n",
      "268                   45869  42458.81     139003.79\n",
      "298                   23879  33556.98     159927.01\n",
      "333                    5663  34758.43     154590.54\n",
      "343                    6836  82927.94     217238.48\n",
      "351                    7654    306.38        762.38\n",
      "355                    6505  45215.10     128014.21\n",
      "358                   33566   5664.77      27786.99\n",
      "367                   14694  54919.25     171969.79\n",
      "...                     ...       ...           ...\n",
      "335870                10098  60813.83     199497.36\n",
      "335873                53327  18768.08      84084.70\n",
      "335917                34509  19240.69      86487.09\n",
      "335932                43124  30908.21     108697.48\n",
      "335936                53763   7559.73      27709.24\n",
      "336027                25843  18333.29      62539.38\n",
      "336033                20192  31403.09      99149.75\n",
      "336049                49219  58247.01     152792.93\n",
      "336081                20050  26913.21      99208.17\n",
      "336106                21355  18936.24      89123.19\n",
      "336122                44858  28145.95     127178.61\n",
      "336129                30673  19275.26      63837.11\n",
      "336144                 1112  69031.48     199238.23\n",
      "336157                11338  93291.66     249214.67\n",
      "336187                38637  47401.20     198965.80\n",
      "336204                39955  18258.33      83825.88\n",
      "336208                42239   2486.70       7443.32\n",
      "336213                30393  73350.98     203218.34\n",
      "336214                44972  31381.63     102845.99\n",
      "336226                 8091   2630.74       9219.70\n",
      "336248                26843  31371.04     148994.54\n",
      "336266                54808  60847.89     215064.75\n",
      "336273                30878  44775.35     173751.34\n",
      "336279                39857  25613.03      80100.74\n",
      "336281                 8721  51605.40     183422.51\n",
      "336290                 1232  24459.37      98821.63\n",
      "336331                22682  43257.81     103878.19\n",
      "336333                54069  18382.31      76137.72\n",
      "336351                36250   1430.79       3934.04\n",
      "336359                 8601  39628.79     192816.30\n",
      "\n",
      "[24476 rows x 3 columns]\n"
     ]
    }
   ],
   "source": [
    "#people whose overtime salary is greater than 5% of salaries.\n",
    "3sdf1=df[df['Overtime']>df['Total Salary']/5]\n",
    "print(df1[['Employee Identifier','Overtime','Total Salary']])"
   ]
  },
  {
   "cell_type": "code",
   "execution_count": 9,
   "metadata": {
    "collapsed": false
   },
   "outputs": [
    {
     "name": "stdout",
     "output_type": "stream",
     "text": [
      "                               Total Benefits  Total Compensation  perc_sal\n",
      "Job Family                                                                 \n",
      "Administrative & Mgmt (Unrep)    58804.222241       248536.124310  4.226501\n",
      "Administrative Secretarial       28918.649873       101995.198101  3.526970\n",
      "Administrative-DPW/PUC           41349.404069       156364.681576  3.781546\n",
      "Administrative-Labor & Trades    39922.411887       160870.450896  4.029577\n",
      "Agriculture & Horticulture       25407.737041        81391.643272  3.203420\n"
     ]
    }
   ],
   "source": [
    "#calculate the percentage of total benefits with respect to total compensation.\n",
    "df_job=df.groupby('Job Family')['Total Benefits','Total Compensation'].mean()\n",
    "df_job['perc_sal']=(df_job['Total Compensation']/df_job['Total Benefits'])\n",
    "print(df_job.head(5))"
   ]
  },
  {
   "cell_type": "code",
   "execution_count": 10,
   "metadata": {
    "collapsed": false
   },
   "outputs": [],
   "source": [
    "#saving result to file\n",
    "df_job.to_csv(\"Q2P2.csv\")  #saving ouput to csv\n"
   ]
  },
  {
   "cell_type": "code",
   "execution_count": null,
   "metadata": {
    "collapsed": true
   },
   "outputs": [],
   "source": []
  }
 ],
 "metadata": {
  "anaconda-cloud": {},
  "kernelspec": {
   "display_name": "Python [conda root]",
   "language": "python",
   "name": "conda-root-py"
  },
  "language_info": {
   "codemirror_mode": {
    "name": "ipython",
    "version": 3
   },
   "file_extension": ".py",
   "mimetype": "text/x-python",
   "name": "python",
   "nbconvert_exporter": "python",
   "pygments_lexer": "ipython3",
   "version": "3.5.2"
  }
 },
 "nbformat": 4,
 "nbformat_minor": 1
}
