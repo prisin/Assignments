{
 "cells": [
  {
   "cell_type": "markdown",
   "metadata": {},
   "source": [
    "# Question1 Part1\n",
    "\n",
    "- For each month in 2016, find out the percentage of collisions in Manhattan out of that year's total accidents in New   York City."
   ]
  },
  {
   "cell_type": "code",
   "execution_count": 58,
   "metadata": {
    "collapsed": false
   },
   "outputs": [],
   "source": [
    "import pandas as pd\n",
    "import datetime\n",
    "import csv\n",
    "import calendar"
   ]
  },
  {
   "cell_type": "code",
   "execution_count": 68,
   "metadata": {
    "collapsed": false
   },
   "outputs": [
    {
     "name": "stdout",
     "output_type": "stream",
     "text": [
      "DATE  DATE\n",
      "1     2015    2875\n",
      "      2016    3178\n",
      "      2017    2295\n",
      "2     2015    2670\n",
      "      2016    3195\n",
      "      2017    2084\n",
      "3     2015    3396\n",
      "      2016    3479\n",
      "4     2015    3521\n",
      "      2016    3540\n",
      "5     2015    3879\n",
      "      2016    3432\n",
      "6     2015    3728\n",
      "      2016    2956\n",
      "7     2015    3842\n",
      "      2016    3055\n",
      "8     2015    3707\n",
      "      2016    2844\n",
      "9     2015    3639\n",
      "      2016    2744\n",
      "10    2015    4023\n",
      "      2016    2831\n",
      "11    2015    3545\n",
      "      2016    2838\n",
      "12    2015    3672\n",
      "      2016    2634\n",
      "Name: UNIQUE KEY, dtype: int64\n",
      "DATE  DATE\n",
      "1     2015    16120\n",
      "      2016    18101\n",
      "      2017    17243\n",
      "2     2015    15712\n",
      "      2016    15985\n",
      "      2017    15345\n",
      "3     2015    17939\n",
      "      2016    18471\n",
      "4     2015    16781\n",
      "      2016    18331\n",
      "5     2015    19257\n",
      "      2016    20052\n",
      "6     2015    18798\n",
      "      2016    19433\n",
      "7     2015    18752\n",
      "      2016    19867\n",
      "8     2015    18970\n",
      "      2016    19678\n",
      "9     2015    18503\n",
      "      2016    19492\n",
      "10    2015    19838\n",
      "      2016    19666\n",
      "11    2015    18014\n",
      "      2016    19315\n",
      "12    2015    18855\n",
      "      2016    19214\n",
      "Name: UNIQUE KEY, dtype: int64\n",
      "3178\n",
      "3195\n",
      "3479\n",
      "3540\n",
      "3432\n",
      "2956\n",
      "3055\n",
      "2844\n",
      "2744\n",
      "2831\n",
      "2838\n",
      "2634\n"
     ]
    }
   ],
   "source": [
    "df = pd.read_csv(\"vehicle_collisions.csv\")\n",
    "df['DATE'] = pd.to_datetime(df['DATE'])\n",
    "count_manhattan=[]\n",
    "count_total=[]\n",
    "percentage_count=[]\n",
    "\n",
    "man_count=df[df['BOROUGH']== 'MANHATTAN'].groupby([df['DATE'].dt.month,df['DATE'].dt.year]).agg('count')\n",
    "total_count=df.groupby([df['DATE'].dt.month,df['DATE'].dt.year]).agg('count')\n",
    "    \n",
    "count_manhattan=man_count['UNIQUE KEY'].values\n",
    "count_total=total_count['UNIQUE KEY'].values\n",
    "\n",
    "i=1\n",
    "j=0\n",
    "man_len=len(count_manhattan)\n",
    "total_len=len(total_count)\n",
    "\n",
    "print(man_count['UNIQUE KEY'])\n",
    "print(total_count['UNIQUE KEY'])\n",
    "\n",
    "with open('Q1P1.csv', 'w') as outcsv:\n",
    "    writer = csv.writer(outcsv)\n",
    "    writer.writerow([\"MONTH\", \"MANHATTAN\", \"NYC\", \"PERCENTAGE\"])\n",
    "    while i<man_len and  j< 12:\n",
    "        print(count_manhattan[i])\n",
    "        writer.writerow([calendar.month_name[j],count_manhattan[i],count_total[i],count_manhattan[i]/count_total[i]])\n",
    "        if j==0 or j==1:\n",
    "            i+=3\n",
    "        else :\n",
    "            i+=2\n",
    "            \n",
    "        j+=1\n",
    "    \n",
    "outcsv.close()"
   ]
  },
  {
   "cell_type": "code",
   "execution_count": null,
   "metadata": {
    "collapsed": false
   },
   "outputs": [],
   "source": []
  },
  {
   "cell_type": "code",
   "execution_count": null,
   "metadata": {
    "collapsed": true
   },
   "outputs": [],
   "source": []
  },
  {
   "cell_type": "code",
   "execution_count": null,
   "metadata": {
    "collapsed": true
   },
   "outputs": [],
   "source": []
  }
 ],
 "metadata": {
  "anaconda-cloud": {},
  "kernelspec": {
   "display_name": "Python [conda root]",
   "language": "python",
   "name": "conda-root-py"
  },
  "language_info": {
   "codemirror_mode": {
    "name": "ipython",
    "version": 3
   },
   "file_extension": ".py",
   "mimetype": "text/x-python",
   "name": "python",
   "nbconvert_exporter": "python",
   "pygments_lexer": "ipython3",
   "version": "3.5.2"
  }
 },
 "nbformat": 4,
 "nbformat_minor": 1
}
