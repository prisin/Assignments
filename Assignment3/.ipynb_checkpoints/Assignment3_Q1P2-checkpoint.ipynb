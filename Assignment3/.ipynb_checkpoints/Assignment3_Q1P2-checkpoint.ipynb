{
 "cells": [
  {
   "cell_type": "markdown",
   "metadata": {},
   "source": [
    "# Question1 Part2\n",
    "\n",
    "- For each borough, find out distribution of each collision scale. (One car involved? Two? Three? or more?)"
   ]
  },
  {
   "cell_type": "code",
   "execution_count": 42,
   "metadata": {
    "collapsed": true
   },
   "outputs": [],
   "source": [
    "import pandas as pd\n",
    "import datetime\n",
    "import csv\n",
    "import calendar"
   ]
  },
  {
   "cell_type": "code",
   "execution_count": 55,
   "metadata": {
    "collapsed": false
   },
   "outputs": [
    {
     "name": "stdout",
     "output_type": "stream",
     "text": [
      "               ONE_VEHICLE_INVOLVED  TWO_VEHICLE_INVOLVED  \\\n",
      "BOROUGH                                                     \n",
      "BRONX                         45599                 36972   \n",
      "BROOKLYN                     104174                 86799   \n",
      "MANHATTAN                     82801                 69483   \n",
      "QUEENS                        89140                 76178   \n",
      "STATEN ISLAND                 13943                 11600   \n",
      "\n",
      "               THREE_VEHICLE_INVOLVED  FOUR_VEHICLE_INVOLVED  \\\n",
      "BOROUGH                                                        \n",
      "BRONX                            2587                    625   \n",
      "BROOKLYN                         6592                   1612   \n",
      "MANHATTAN                        2525                    501   \n",
      "QUEENS                           5918                   1420   \n",
      "STATEN ISLAND                     924                    165   \n",
      "\n",
      "               FIVE_VEHICLE_INVOLVED  \n",
      "BOROUGH                               \n",
      "BRONX                            173  \n",
      "BROOKLYN                         461  \n",
      "MANHATTAN                        129  \n",
      "QUEENS                           314  \n",
      "STATEN ISLAND                     32  \n",
      "               ONE_VEHICLE_INVOLVED  TWO_VEHICLE_INVOLVED  \\\n",
      "BOROUGH                                                     \n",
      "BRONX                          8627                 34385   \n",
      "BROOKLYN                      17375                 80207   \n",
      "MANHATTAN                     13318                 66958   \n",
      "QUEENS                        12962                 70260   \n",
      "STATEN ISLAND                  2343                 10676   \n",
      "\n",
      "               THREE_VEHICLE_INVOLVED  MORE_VEHICLE_INVOLVED  \n",
      "BOROUGH                                                       \n",
      "BRONX                            1962                    798  \n",
      "BROOKLYN                         4980                   2073  \n",
      "MANHATTAN                        2024                    630  \n",
      "QUEENS                           4498                   1734  \n",
      "STATEN ISLAND                     759                    197  \n"
     ]
    }
   ],
   "source": [
    "df = pd.read_csv(\"vehicle_collisions.csv\",usecols=[\"BOROUGH\", \"VEHICLE 1 TYPE\", \"VEHICLE 2 TYPE\",\"VEHICLE 3 TYPE\",\"VEHICLE 4 TYPE\",\"VEHICLE 5 TYPE\"])\n",
    "df['ONE_VEHICLE_INVOLVED']=df['VEHICLE 1 TYPE'].notnull().astype('int') #removing not involved values\n",
    "df['TWO_VEHICLE_INVOLVED']=df['VEHICLE 2 TYPE'].notnull().astype('int')\n",
    "df['THREE_VEHICLE_INVOLVED']=df['VEHICLE 3 TYPE'].notnull().astype('int')\n",
    "df['FOUR_VEHICLE_INVOLVED']=df['VEHICLE 4 TYPE'].notnull().astype('int')\n",
    "df['FIVE_VEHICLE_INVOLVED']=df['VEHICLE 5 TYPE'].notnull().astype('int')\n",
    "df=df.groupby('BOROUGH').sum() #groupbing the data with location and taking sum\n",
    "\n",
    "df['MORE_VEHICLE_INVOLVED']=df['FOUR_VEHICLE_INVOLVED']+df['FIVE_VEHICLE_INVOLVED'] #more vehicles involved\n",
    "\n",
    "\n",
    "df['ONE_VEHICLE_INVOLVED']=df['ONE_VEHICLE_INVOLVED']-df['MORE_VEHICLE_INVOLVED'] # removing more vehicles involved\n",
    "df['TWO_VEHICLE_INVOLVED']=df['TWO_VEHICLE_INVOLVED']-df['MORE_VEHICLE_INVOLVED']\n",
    "df['THREE_VEHICLE_INVOLVED']=df['THREE_VEHICLE_INVOLVED']-df['MORE_VEHICLE_INVOLVED']\n",
    "\n",
    "df['ONE_VEHICLE_INVOLVED']= df['ONE_VEHICLE_INVOLVED']- df['TWO_VEHICLE_INVOLVED']\n",
    "df['TWO_VEHICLE_INVOLVED']=df['TWO_VEHICLE_INVOLVED']-df['THREE_VEHICLE_INVOLVED']   \n",
    "df['THREE_VEHICLE_INVOLVED']=df['THREE_VEHICLE_INVOLVED'] +df['FIVE_VEHICLE_INVOLVED']\n",
    "df=df.drop('FOUR_VEHICLE_INVOLVED', axis=1)\n",
    "df=df.drop('FIVE_VEHICLE_INVOLVED', axis=1)\n",
    "print(df.head())  #showing output"
   ]
  },
  {
   "cell_type": "code",
   "execution_count": 54,
   "metadata": {
    "collapsed": false
   },
   "outputs": [],
   "source": [
    "df.to_csv(\"Q1P2.csv\")  #saving ouput to csv\n"
   ]
  },
  {
   "cell_type": "code",
   "execution_count": null,
   "metadata": {
    "collapsed": true
   },
   "outputs": [],
   "source": []
  },
  {
   "cell_type": "code",
   "execution_count": null,
   "metadata": {
    "collapsed": true
   },
   "outputs": [],
   "source": []
  }
 ],
 "metadata": {
  "anaconda-cloud": {},
  "kernelspec": {
   "display_name": "Python [conda root]",
   "language": "python",
   "name": "conda-root-py"
  },
  "language_info": {
   "codemirror_mode": {
    "name": "ipython",
    "version": 3
   },
   "file_extension": ".py",
   "mimetype": "text/x-python",
   "name": "python",
   "nbconvert_exporter": "python",
   "pygments_lexer": "ipython3",
   "version": "3.5.2"
  }
 },
 "nbformat": 4,
 "nbformat_minor": 1
}
