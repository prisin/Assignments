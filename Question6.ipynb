{
 "cells": [
  {
   "cell_type": "markdown",
   "metadata": {},
   "source": [
    "# Question 6\n",
    "- For every president, find out how many unique words they used in speech. "
   ]
  },
  {
   "cell_type": "code",
   "execution_count": 2,
   "metadata": {
    "collapsed": false
   },
   "outputs": [
    {
     "name": "stdout",
     "output_type": "stream",
     "text": [
      "unique words used by each president: {'Eisenhower': 17065, 'Pierce': 5248, 'Coolidge': 7787, 'Taft': 7164, 'Buchanan': 5395, 'Johnson': 8719, 'Harding': 7598, 'Cleveland': 12762, 'Carter': 8915, 'Washington': 1291, 'Grant': 11507, 'Obama': 9754, 'Polk': 4959, 'Roosevelt': 39601, 'Harrison': 11149, 'Madison': 4584, 'Hayes': 5898, 'Reagan': 18256, 'Jefferson': 3645, 'Garfield': 6067, 'Kennedy': 8640, 'Truman': 8322, 'Bush': 28505, 'Monroe': 6030, 'Taylor': 5007, 'McKinley': 13653, 'Nixon': 17691, 'VanBuren': 4063, 'Hoover': 7952, 'Clinton': 18883, 'Wilson': 14642, 'Lincoln': 11249, 'Jackson': 7324, 'Adams': 4754}\n"
     ]
    }
   ],
   "source": [
    "from nltk.corpus import inaugural\n",
    "all_president = inaugural.fileids()  #Getting all files from package\n",
    "president_words = {}\n",
    "unique_words = {}\n",
    "for x in all_president:       #Iterating over all files\n",
    "  speech = inaugural.words(x);   #Getting all words of each file \n",
    "  for i in speech:               #Iterating over each word of file\n",
    "    if i in unique_words:        #Counting all unique words\n",
    "        unique_words[i]+=1\n",
    "    else:\n",
    "        unique_words[i]=1\n",
    "  if(x[5:-4] in president_words):    #Adding all unique words with each president name in a dictionary\n",
    "     president_words[x[5:-4]]+= len(unique_words)  \n",
    "  else:  \n",
    "    president_words[x[5:-4]]= len(unique_words)  \n",
    "  \n",
    "   \n",
    "print(\"unique words used by each president:\", president_words )      \n",
    "      \n"
   ]
  },
  {
   "cell_type": "code",
   "execution_count": 22,
   "metadata": {
    "collapsed": false
   },
   "outputs": [
    {
     "name": "stdout",
     "output_type": "stream",
     "text": [
      "{'.': 938}\n"
     ]
    }
   ],
   "source": []
  },
  {
   "cell_type": "code",
   "execution_count": null,
   "metadata": {
    "collapsed": true
   },
   "outputs": [],
   "source": []
  }
 ],
 "metadata": {
  "anaconda-cloud": {},
  "kernelspec": {
   "display_name": "Python [conda root]",
   "language": "python",
   "name": "conda-root-py"
  },
  "language_info": {
   "codemirror_mode": {
    "name": "ipython",
    "version": 3
   },
   "file_extension": ".py",
   "mimetype": "text/x-python",
   "name": "python",
   "nbconvert_exporter": "python",
   "pygments_lexer": "ipython3",
   "version": "3.5.2"
  }
 },
 "nbformat": 4,
 "nbformat_minor": 1
}
