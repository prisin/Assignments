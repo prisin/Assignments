{
 "cells": [
  {
   "cell_type": "markdown",
   "metadata": {},
   "source": [
    "# Question 1\n",
    "\n",
    "- Iterate through all files and directories to get data.\n",
    "- Parse the email data to get to,from and body from each email .\n",
    "- count the frequency of each contact 'to' and 'from' to get who sent maximum emails and who got maximum emails.\n",
    "- Open all emails of kenneth Lay,founder of Enron  and parse to store the body of email  to a text file.\n",
    "- Filter the body by removing small words,stop words and useless words and only alphabets.\n",
    "- Get the frequency of each word to analyze the data."
   ]
  },
  {
   "cell_type": "markdown",
   "metadata": {
    "collapsed": true
   },
   "source": [
    "# Question 2\n",
    "\n",
    "- Export the api key from system\n",
    "- Request the api call to get all the articles from year 1987 to 2017 of Bill Clinton.\n",
    "- Get all articles from page 1-100 of each year.\n",
    "- Parse each article to get the useful data and store it as json in one location.\n",
    "- Read each json from location to analyze data\n",
    "- Get the frequency of his name mentioned to get his popularity in which year started.\n",
    "- Get data which year US elections where held by iterating on subjects.\n",
    "- Get Presidential elections data of each year to anaylize who stand in which year for election."
   ]
  }
 ],
 "metadata": {
  "anaconda-cloud": {},
  "kernelspec": {
   "display_name": "Python [conda root]",
   "language": "python",
   "name": "conda-root-py"
  },
  "language_info": {
   "codemirror_mode": {
    "name": "ipython",
    "version": 3
   },
   "file_extension": ".py",
   "mimetype": "text/x-python",
   "name": "python",
   "nbconvert_exporter": "python",
   "pygments_lexer": "ipython3",
   "version": "3.5.2"
  }
 },
 "nbformat": 4,
 "nbformat_minor": 1
}
