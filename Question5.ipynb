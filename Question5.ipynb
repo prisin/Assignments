{
 "cells": [
  {
   "cell_type": "markdown",
   "metadata": {},
   "source": [
    "# Question 5\n",
    "- top 5 words that Shakespeare used but we do not use in currently.\n",
    "- top 50 words from Shakespeare (all 3 books) and top 50 from Web_text (all the records). \n",
    "- Remove punctuation and stop words.\n",
    "- Remove the words we still use today, and get the unused list. Show the top 5 elements. \n"
   ]
  },
  {
   "cell_type": "code",
   "execution_count": 2,
   "metadata": {
    "collapsed": false
   },
   "outputs": [
    {
     "name": "stdout",
     "output_type": "stream",
     "text": [
      "Top 5 shakesphere words: ['and', 'haue', 'ham', 'thou', 'shall']\n"
     ]
    }
   ],
   "source": [
    "from nltk.corpus import gutenberg\n",
    "from nltk.corpus import webtext\n",
    "from nltk.corpus import stopwords\n",
    "\n",
    "shakes_top50=[] #Initializing list to store top 50 shakes words\n",
    "text_top50=[]   #Initializing list to store top 50 webtext words\n",
    "final_list =[]  ##Initializing lsit to store top 5 shakes words\n",
    "stop_words = stopwords.words('english')   #Adding all stopwords in a list\n",
    "\n",
    "shakesphere_list = ['shakespeare-caesar.txt','shakespeare-hamlet.txt','shakespeare-macbeth.txt'] #Adding all shakesphere files in a list\n",
    "shakes_words={}  #Initialize dictionary to store shakesphere words\n",
    "webtext_words={} #Initialize dictionary to store webtext words\n",
    "webtext_list= webtext.fileids() #Adding all webtext files in a list\n",
    "\n",
    "for x in shakesphere_list:   #Iterating over each shakesphere file\n",
    "    for y in gutenberg.words(x): #Iterating over words of each selected shakesphere file\n",
    "        if y.isalpha() and y not in stop_words: #Checking if word is alphabet and no stopwords\n",
    "            if y.lower() in shakes_words:   #Adding all shakesphere word count in a dictionary\n",
    "                shakes_words[y.lower()] +=1\n",
    "            else:\n",
    "                shakes_words[y.lower()] =1\n",
    "                \n",
    "shakes_top50 = sorted(shakes_words, key = shakes_words.get, reverse = True)  #Sorting all shakesphere words \n",
    "shakes_top50 = shakes_top50[:50]\n",
    "\n",
    "for m in webtext_list:      #Iterating over each webtext file\n",
    "    for n in webtext.words(m):  #Iterating over words of each selected webtext file\n",
    "        if n.isalpha() and n not in stop_words:   #Checking if word is alphabet and no stopwords\n",
    "            if n.lower() in webtext_words:       #Adding all webtext word count in a dictionary\n",
    "                webtext_words[n.lower()] +=1\n",
    "            else:\n",
    "                webtext_words[n.lower()] =1\n",
    "text_top50 = sorted(webtext_words, key = webtext_words.get, reverse = True)  #Sorting all webtext words \n",
    "text_top50 = text_top50[:50]\n",
    "\n",
    "for x in shakes_top50:           #Checking if shakesphere words are unused\n",
    "    if x not in text_top50:\n",
    "        final_list.append(x)\n",
    " \n",
    "    final_list = final_list[:5]     #Getting top 5 unused shakesphere words\n",
    "print(\"Top 5 shakesphere words:\", final_list)\n",
    "\n",
    "\n"
   ]
  },
  {
   "cell_type": "code",
   "execution_count": null,
   "metadata": {
    "collapsed": true
   },
   "outputs": [],
   "source": []
  },
  {
   "cell_type": "code",
   "execution_count": null,
   "metadata": {
    "collapsed": true
   },
   "outputs": [],
   "source": []
  }
 ],
 "metadata": {
  "anaconda-cloud": {},
  "kernelspec": {
   "display_name": "Python [conda root]",
   "language": "python",
   "name": "conda-root-py"
  },
  "language_info": {
   "codemirror_mode": {
    "name": "ipython",
    "version": 3
   },
   "file_extension": ".py",
   "mimetype": "text/x-python",
   "name": "python",
   "nbconvert_exporter": "python",
   "pygments_lexer": "ipython3",
   "version": "3.5.2"
  }
 },
 "nbformat": 4,
 "nbformat_minor": 1
}
