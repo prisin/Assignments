{
 "cells": [
  {
   "cell_type": "markdown",
   "metadata": {
    "collapsed": true
   },
   "source": [
    "# Question2 \n",
    "\n",
    "- Analysis of data from nytimes api"
   ]
  },
  {
   "cell_type": "code",
   "execution_count": 1,
   "metadata": {
    "collapsed": false
   },
   "outputs": [
    {
     "name": "stdout",
     "output_type": "stream",
     "text": [
      "9d57a1c7179947cfaf6d7e89ac7234b3\n"
     ]
    }
   ],
   "source": [
    "import json, requests\n",
    "from pprint import pprint\n",
    "import datetime\n",
    "import os\n",
    "import glob\n",
    "import nltk\n",
    "\n",
    "api_key = os.getenv('auth_key')   #exporting the auth key stored\n",
    "print(api_key)\n",
    "\n",
    "path='..\\\\data\\\\nytimes'\n",
    "if not os.path.exists(path): #making the folder in location if folder doesn't exist to store json files\n",
    "    os.mkdir(path)"
   ]
  },
  {
   "cell_type": "code",
   "execution_count": null,
   "metadata": {
    "collapsed": false
   },
   "outputs": [],
   "source": [
    "def parse_articles(articles):         #function to parse data to get only the required data to analyze\n",
    "    data_result = []\n",
    "    reqdata = {}\n",
    "    for i in articles['response']['docs']:\n",
    "        if i['abstract'] is not None:\n",
    "                reqdata['abstract'] = i['abstract']\n",
    "        reqdata['headline'] = i['headline']['main']\n",
    "        if i['snippet'] is not None:\n",
    "                reqdata['snippet'] = i['snippet']\n",
    "        subjects = []\n",
    "        for m in range(0,len(i['keywords'])):\n",
    "                if 'subject' in i['keywords'][m]['name']:\n",
    "                     subjects.append(i['keywords'][m]['value'])\n",
    "        reqdata['subjects'] = subjects   \n",
    "        data_result.append(reqdata)\n",
    "    return data_result"
   ]
  },
  {
   "cell_type": "code",
   "execution_count": null,
   "metadata": {
    "collapsed": false
   },
   "outputs": [],
   "source": [
    "url = 'http://api.nytimes.com/svc/search/v2/articlesearch.json'\n",
    "\n",
    "def get_articles(startDate,endDate,sort,page):   #function to get articles for each page from start date to end data using url\n",
    "    q='Bill Clinton'\n",
    "    fq = {'headline':'Bill Clinton', 'source':['The New York Times']}\n",
    "    news=[]\n",
    "    query_params={\n",
    "              'begin_date': startDate,\n",
    "              'end_date': endDate,\n",
    "              'sort': sort,\n",
    "              'q': q,\n",
    "              'fq': fq,\n",
    "              'page':str(page),\n",
    "              'api-key': api_key\n",
    "     }\n",
    "    request=requests.get(url, params=query_params) \n",
    "    data=request.json()\n",
    "    if data is not None:\n",
    "        if 'response' in data:\n",
    "              news.append(parse_articles(data))  #calling function to parse data and add it in list\n",
    "        else:\n",
    "            return         \n",
    "    else:\n",
    "        return            \n",
    "    return news"
   ]
  },
  {
   "cell_type": "code",
   "execution_count": null,
   "metadata": {
    "collapsed": true
   },
   "outputs": [],
   "source": [
    "def get_everyYear(date):               #function to get all data of year passed iterating from page 0 to 100\n",
    "    all_content=[]\n",
    "    start = date + '0101',\n",
    "    end = date + '1231',\n",
    "    sort = 'newest'\n",
    "    for page in range(0,100):\n",
    "            content = get_articles(start,end,sort,page) #call punction to get data for each page from 0 to 100\n",
    "            if content:\n",
    "                all_content = all_content + content \n",
    "    return all_content    "
   ]
  },
  {
   "cell_type": "code",
   "execution_count": null,
   "metadata": {
    "collapsed": false
   },
   "outputs": [],
   "source": [
    "all_articles =[]            #Initializing list to store all articles \n",
    "\n",
    "for i in range(1887,2017):\n",
    "    news = get_everyYear(str(i))  #Getting results of all articles from 1987 to 2017\n",
    "    all_articles = all_articles + news  #updating all_articles list to get total list\n",
    "    \n",
    "    filePath=os.path.join(path,str(i))+'.json'   #path to store all json files of each year\n",
    "    try:\n",
    "         with open(filePath, 'w') as json_file:\n",
    "                json.dump(all_articles,json_file,indent=2)   #dumping data in the file\n",
    "    except ValueError:                                      \n",
    "         print('Decoding JSON has failed')\n",
    "json_file.close()\n",
    "\n"
   ]
  },
  {
   "cell_type": "code",
   "execution_count": 10,
   "metadata": {
    "collapsed": false
   },
   "outputs": [],
   "source": [
    "subjects =[]                  #Initialize list to store all subjects from year 1887 to 1997 referring Bill Clinton\n",
    "clintonName = {}              #Initialize dict to store frequency of his name each year to know his popularity\n",
    "elections={}                  #Initialize dict to store elctions data of each year\n",
    "\n",
    "for infile in glob.glob(os.path.join(path, '*.json')):  #Iterating over all the json files stored in path\n",
    "        year = infile[16:20]\n",
    "        with open(infile) as filedata:               #opening each json file stored in path    \n",
    "                d1 = json.load(filedata)             #getting the json data \n",
    "                for i in d1:\n",
    "                    for j in i:                      #iterating over each json data\n",
    "                        subjects.append(j['subjects'])    #appending all subjects in list\n",
    "                        if any(('PRESIDENTIAL ELECTION OF ' + year) in s.upper() for s in j['subjects']):\n",
    "                            elections[year]=j['snippet']\n",
    "                        if 'Clinton' in j['snippet']:   #checking if clinton name mentioned in each json data\n",
    "                            if year in clintonName:\n",
    "                                clintonName[year]+=1\n",
    "                            else:\n",
    "                                clintonName[year]=1\n",
    "        filedata.close()  \n",
    "        \n"
   ]
  },
  {
   "cell_type": "code",
   "execution_count": 11,
   "metadata": {
    "collapsed": false
   },
   "outputs": [
    {
     "name": "stdout",
     "output_type": "stream",
     "text": [
      "Clinton name mentioned\n",
      "1992 20\n",
      "1993 20\n",
      "1994 20\n",
      "1995 30\n",
      "1996 5\n",
      "1997 5\n",
      "1998 5\n",
      "1999 5\n",
      "2000 13\n",
      "2001 5\n",
      "2002 5\n",
      "2003 5\n",
      "2004 5\n",
      "2005 5\n",
      "2006 7\n",
      "2007 7\n",
      "2008 7\n",
      "2009 8\n",
      "2010 8\n",
      "2011 10\n",
      "2013 10\n",
      "2014 8\n",
      "2015 8\n",
      "2016 12\n"
     ]
    }
   ],
   "source": [
    "print('Clinton name mentioned')        \n",
    "for year in sorted(clintonName.keys()):   #getting number of times Clinton name mentioned in each year\n",
    "    print (year, clintonName[year])\n",
    "\n",
    "# Analysis 1:Clinton joined politics for president elections from 1991 \n",
    "#     and there was no much mention about him before 1992 and was most popular from year 1992-1995.\n",
    "#He was mentioned in 2016 alot because of Hillary Clinton in elections       "
   ]
  },
  {
   "cell_type": "code",
   "execution_count": 12,
   "metadata": {
    "collapsed": false
   },
   "outputs": [],
   "source": [
    "all_subjects=[]      #Initializing list to store all subjects from json data\n",
    "\n",
    "for m in subjects:\n",
    "    for n in m:\n",
    "        all_subjects.append(n.upper())   #storing all subjects in the list\n",
    "\n",
    "words_freq={}\n",
    "\n",
    "for i in all_subjects:                   #calculating the frequency of each subject\n",
    "        if i in words_freq:\n",
    "            words_freq[i]+=1\n",
    "        else:\n",
    "            words_freq[i]=1\n",
    "            \n",
    "top_words = sorted(words_freq, key=lambda k: words_freq[k], reverse=True) #sorting the subject based on freq in decending order\n"
   ]
  },
  {
   "cell_type": "code",
   "execution_count": 13,
   "metadata": {
    "collapsed": false
   },
   "outputs": [
    {
     "name": "stdout",
     "output_type": "stream",
     "text": [
      "UNITED STATES POLITICS AND GOVERNMENT : 97\n",
      "LAW AND LEGISLATION : 75\n",
      "ELECTIONS : 68\n",
      "UNITED STATES INTERNATIONAL RELATIONS : 68\n",
      "HEALTH INSURANCE : 43\n",
      "MEDICINE AND HEALTH : 43\n",
      "ELECTION ISSUES : 40\n",
      "POLITICS AND GOVERNMENT : 39\n",
      "PRESIDENTIAL ELECTION OF 1992 : 37\n",
      "BIOGRAPHICAL INFORMATION : 36\n",
      "TELEVISION : 35\n",
      "PRESIDENTIAL ELECTION OF 2012 : 32\n",
      "REFORM AND REORGANIZATION : 30\n",
      "UNITED STATES ARMAMENT AND DEFENSE : 27\n",
      "NEWS AND NEWS MEDIA : 27\n",
      "FINANCES : 26\n",
      "UNITED STATES ECONOMY : 24\n",
      "STATES (US) : 24\n",
      "ECONOMIC CONDITIONS AND TRENDS : 23\n",
      "PRESIDENTIAL ELECTION OF 2004 : 21\n",
      "LABOR : 21\n",
      "WHITEWATER CASE : 20\n",
      "LABOR-MANAGEMENT RELATIONS : 20\n",
      "EDUCATION (SECONDARY) : 20\n",
      "CORRECTION STORIES : 20\n",
      "HEALTH MAINTENANCE ORGANIZATIONS : 20\n",
      "TUTORS AND TUTORING : 20\n",
      "KUWAIT-INTERNATIONAL RELATIONS-US : 20\n",
      "MEDICAID : 20\n",
      "LEGAL PROFESSION : 20\n",
      "BOOKS AND LITERATURE : 20\n",
      "HAITI-INTERNATIONAL RELATIONS-US : 20\n",
      "VETERANS : 16\n",
      "ENVIRONMENT : 16\n",
      "PRESIDENTIAL ELECTION OF 2000 : 16\n",
      "PREGNANCY AND OBSTETRICS : 15\n",
      "ETHICS : 15\n",
      "PRESIDENTIAL ELECTION OF 1996 : 14\n",
      "ENGLISH LANGUAGE : 14\n",
      "POLITICAL ADVERTISING : 13\n",
      "APPAREL : 13\n",
      "DEATHS (OBITUARIES) : 13\n",
      "BUDGETS AND BUDGETING : 13\n",
      "CRIME AND CRIMINALS : 13\n",
      "ASTROLOGY : 13\n",
      "MEXICO-INTERNATIONAL RELATIONS-US : 13\n",
      "IRISH-AMERICANS : 13\n",
      "AIR POLLUTION : 13\n",
      "ST PATRICK'S DAY : 13\n",
      "PRIVATIZATION : 13\n",
      "HUNTING AND TRAPPING : 13\n",
      "TRAVEL RESTRICTIONS : 13\n",
      "DISCLOSURE OF INFORMATION : 13\n",
      "IMMIGRATION AND REFUGEES : 13\n",
      "NAMES, PERSONAL : 13\n",
      "VISAS : 13\n",
      "CONSTITUTIONAL AMENDMENTS : 13\n",
      "POLICE : 13\n",
      "SURGEON GENERAL (US) : 13\n",
      "CURRENCY : 13\n",
      "COMPUTERS AND INFORMATION SYSTEMS : 12\n",
      "INTERNET AND WORLD WIDE WEB : 12\n",
      "SURVEYS AND SERIES : 11\n",
      "INTERNATIONAL TRADE AND WORLD MARKET : 11\n",
      "SCIENCE AND TECHNOLOGY : 11\n",
      "COMPUTERS AND THE INTERNET : 11\n",
      "RESEARCH : 11\n",
      "DEMOCRATIC NATIONAL CONVENTION : 10\n",
      "BLOGS AND BLOGGING (INTERNET) : 10\n",
      "HOSPITALS : 10\n",
      "HAZARDOUS AND TOXIC SUBSTANCES : 10\n",
      "WATER POLLUTION : 10\n",
      "ELECTION RESULTS : 10\n",
      "DRAFT AND RECRUITMENT (MILITARY) : 10\n",
      "SOCIAL NETWORKING (INTERNET) : 10\n",
      "REGULATION AND DEREGULATION OF INDUSTRY : 10\n",
      "PRESIDENTS AND PRESIDENCY (US) : 10\n",
      "VIETNAM WAR : 10\n",
      "FOREIGN AID : 10\n",
      "SPECIAL SECTIONS : 10\n",
      "ACADEMIC AND SCIENTIFIC JOURNALS : 10\n",
      "STANDARDS AND STANDARDIZATION : 10\n",
      "NO INDEX TERMS : 10\n",
      "TAXATION : 9\n",
      "PRESIDENTIAL ELECTION OF 2008 : 8\n",
      "ATOMIC WEAPONS : 8\n",
      "NOBEL PRIZES : 8\n",
      "BIOLOGICAL AND CHEMICAL WARFARE : 7\n",
      "GLOBAL WARMING : 7\n",
      "ENDORSEMENTS : 7\n",
      "PRESIDENTIAL ELECTION OF 1988 : 6\n",
      "GOVERNORS (US) : 5\n",
      "JAZZ : 5\n",
      "NEWSPAPERS : 5\n",
      "AUCTIONS : 4\n",
      "PUBLIC OPINION : 4\n",
      "BASEBALL : 4\n",
      "DOCUMENTARY FILMS AND PROGRAMS : 4\n",
      "GOVERNMENT BONDS : 4\n",
      "RESTAURANTS : 4\n",
      "CONTESTS AND PRIZES : 4\n",
      "RACE : 4\n",
      "EDITORIALS : 4\n",
      "BLACKS : 4\n",
      "PRIMARIES : 3\n",
      "ADVERTISING : 3\n",
      "PAYROLL TAX : 3\n",
      "ADULTERY : 3\n",
      "ELECTIONS, GOVERNORS : 3\n",
      "COLLEGE ATHLETICS : 3\n",
      "BASKETBALL (COLLEGE) : 3\n",
      "CAMPAIGN FINANCE : 3\n",
      "FEDERAL TAXES (US) : 3\n",
      "HEART : 3\n",
      "SURGERY AND SURGEONS : 3\n",
      "LUNGS : 3\n",
      "RECALLS AND BANS OF PRODUCTS : 3\n",
      "OBESITY : 3\n",
      "FEDERAL BUDGET (US) : 3\n",
      "SOFT DRINKS : 3\n",
      "TRANSPLANTS : 3\n",
      "TEMPERATURE : 3\n",
      "OCEANS AND SEAS : 3\n",
      "CYSTIC FIBROSIS : 3\n",
      "CONSERVATISM (US POLITICS) : 3\n",
      "PARTIES (SOCIAL) : 3\n",
      "TREATIES : 3\n",
      "ADVERTISING AND MARKETING : 3\n",
      "MAGAZINES : 3\n",
      "GREENHOUSE GAS EMISSIONS : 3\n",
      "SNACK FOODS : 3\n",
      "MIDTERM ELECTIONS (2014) : 3\n",
      "SUGAR : 3\n",
      "FOOTBALL (COLLEGE) : 3\n",
      "ABORTION : 3\n",
      "ATHLETICS AND SPORTS : 3\n",
      "UNITED NATIONS FRAMEWORK CONVENTION ON CLIMATE CHANGE : 3\n",
      "ACID RAIN : 3\n",
      "CHILDREN AND YOUTH : 3\n",
      "GRAMMAR : 2\n",
      "STATISTICS : 2\n",
      "SAME-SEX MARRIAGE, CIVIL UNIONS AND DOMESTIC PARTNERSHIPS : 2\n",
      "HOT DOGS : 2\n",
      "LAND USE POLICIES : 2\n",
      "DECISIONS AND VERDICTS : 2\n",
      "PAPER AND PULP : 2\n",
      "PRESIDENTIAL ELECTION OF 2016 : 2\n",
      "FREEDOM AND HUMAN RIGHTS : 2\n",
      "EMERGENCY ECONOMIC STABILIZATION ACT (2008) : 2\n",
      "SUBPRIME MORTGAGE CRISIS : 2\n",
      "THIRD WORLD AND DEVELOPING COUNTRIES : 2\n",
      "TRAVEL AND VACATIONS : 2\n",
      "RECYCLING OF WASTE MATERIALS : 2\n",
      "WILDERNESS AREAS : 2\n",
      "GARBAGE : 2\n",
      "WASTE MATERIALS AND DISPOSAL : 2\n",
      "BANKS AND BANKING : 2\n",
      "LANGUAGE AND LANGUAGES : 2\n",
      "CONVENTIONS, NATIONAL (US) : 2\n",
      "MARRIAGES : 2\n",
      "MICROFINANCE : 2\n",
      "HOMOSEXUALITY : 2\n",
      "DISCRIMINATION : 2\n",
      "FINES (PENALTIES) : 2\n",
      "CONTAINERS AND PACKAGING : 2\n",
      "CASHMERE : 1\n",
      "LABORATORIES AND SCIENTIFIC EQUIPMENT : 1\n",
      "IMPEACHMENT : 1\n",
      "ELECTRONIC MAIL : 1\n",
      "AUSTRALIA-INTERNATIONAL RELATIONS-US : 1\n",
      "AIRLINES AND AIRPLANES : 1\n",
      "BANANAS : 1\n",
      "SHUTDOWNS (INSTITUTIONAL) : 1\n",
      "RATINGS AND RATING SYSTEMS : 1\n",
      "GEOGRAPHIC PROFILES : 1\n",
      "AIRPORTS : 1\n",
      "ELECTRIC LIGHT AND POWER : 1\n",
      "SHOREHAM NUCLEAR POWER PLANT : 1\n",
      "DEBATING : 1\n",
      "AIR TRAFFIC CONTROL : 1\n",
      "DEBATES (POLITICAL) : 1\n",
      "COMPANY AND ORGANIZATION PROFILES : 1\n",
      "DELAYS (TRANSPORTATION) : 1\n",
      "REVIEWS : 1\n",
      "CUSTOMS (TARIFF) : 1\n",
      "FIREARMS : 1\n",
      "COMEDY AND HUMOR : 1\n",
      "GUN CONTROL : 1\n",
      "SUMMIT CONFERENCES : 1\n",
      "FAR EAST-INTERNATIONAL RELATIONS-US : 1\n",
      "ATOMIC ENERGY : 1\n",
      "RECORDINGS (VIDEO) : 1\n",
      "CHRISTIANS AND CHRISTIANITY : 1\n",
      "SWEATERS : 1\n",
      "ANIMALS : 1\n",
      "AUTOMOBILES : 1\n"
     ]
    }
   ],
   "source": [
    "for i in top_words:\n",
    "    print(i ,':' ,words_freq[i])\n",
    "\n",
    "# Analysis2: Bill Clinton was a political person in USA as maximum time name was mentioned in politics subject,\n",
    "# and his frequency of reference in all subjects.   "
   ]
  },
  {
   "cell_type": "code",
   "execution_count": 14,
   "metadata": {
    "collapsed": false
   },
   "outputs": [
    {
     "name": "stdout",
     "output_type": "stream",
     "text": [
      "1992\n",
      "Hours before last night's debate, the Bush organization began broadcasting its first commercial devoted entirely to questioning Gov. Bill Clinton's credibility on the draft. Bush aides said the 30-second ad would appear for several days in select ...\n",
      "1996\n",
      "To the Editor:    Once again the strange workings of our Electoral College have confounded pundits and misled headline writers. You say (front page, Nov. 6) that Bill Clinton won ''with solid margins across U.S.'' Other newspapers proclaim a ''big...\n",
      "2000\n",
      "Memo to the half-naked teenager waving the Bradley poster on the corner in Concord: It's winter in New England. Bill wants you to put your shirt back on.    This New Hampshire primary has been wonderful. For one brief moment, in one smallish state...\n",
      "2004\n",
      "At a meeting of Democrats in Parkersburg, Iowa, Senator John Edwards is listening closely as a woman describes her struggle to afford a nursing home for her ailing mother. ''I want somebody who really knows what it is like to struggle,'' she says ...\n",
      "2008\n",
      "In his eight years in the Senate, Fred D. Thompson displayed little enthusiasm for the divisive battles that motivate religious Republican primary voters....\n",
      "2012\n",
      "The following is the full text of President Obama’s prepared remarks for his speech on Thursday from the Democratic National Convention....\n",
      "2016\n",
      "Hillary Clinton's campaign is aggressively outworking Donald Trump in battleground Pennsylvania, a state the billionaire businessman can scarcely afford to lose and still hope to become president....\n"
     ]
    }
   ],
   "source": [
    "for i in range(1991,2017):\n",
    "    sub='PRESIDENTIAL ELECTION OF ' + str(i)\n",
    "    if sub in set(all_subjects) :\n",
    "        print(i)\n",
    "        print(elections[str(i)])\n"
   ]
  },
  {
   "cell_type": "code",
   "execution_count": 15,
   "metadata": {
    "collapsed": true
   },
   "outputs": [],
   "source": [
    "#Analysis 3: Elections were held on these many years in US from 1991-2017 as it was mentioned in subjects.\n",
    "#1992-2000-Bush and Bill Clinton name was mentioned in news for presidential election\n",
    "#2012-Barack Obama name was there in presidential election.\n",
    "#2016-Donald Trump name was in news for presidential election."
   ]
  },
  {
   "cell_type": "code",
   "execution_count": null,
   "metadata": {
    "collapsed": true
   },
   "outputs": [],
   "source": []
  },
  {
   "cell_type": "code",
   "execution_count": null,
   "metadata": {
    "collapsed": true
   },
   "outputs": [],
   "source": []
  }
 ],
 "metadata": {
  "anaconda-cloud": {},
  "kernelspec": {
   "display_name": "Python [conda root]",
   "language": "python",
   "name": "conda-root-py"
  },
  "language_info": {
   "codemirror_mode": {
    "name": "ipython",
    "version": 3
   },
   "file_extension": ".py",
   "mimetype": "text/x-python",
   "name": "python",
   "nbconvert_exporter": "python",
   "pygments_lexer": "ipython3",
   "version": "3.5.2"
  }
 },
 "nbformat": 4,
 "nbformat_minor": 1
}
