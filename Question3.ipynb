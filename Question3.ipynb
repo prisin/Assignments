{
 "cells": [
  {
   "cell_type": "markdown",
   "metadata": {
    "collapsed": true
   },
   "source": [
    "# Question 3\n",
    "- According to the number of lines for Jack Sparrow and Will Turner, find out who is the real leading man in this movie."
   ]
  },
  {
   "cell_type": "code",
   "execution_count": 30,
   "metadata": {
    "collapsed": false
   },
   "outputs": [],
   "source": [
    "from nltk.corpus import webtext\n",
    "all_words = webtext.words('pirates.txt')\n",
    "a= \"Jack Sparrow\"\n",
    "b= \"Will Turner\"\n",
    "leading_man = {'Jack':0, 'Will':0}\n"
   ]
  },
  {
   "cell_type": "code",
   "execution_count": 31,
   "metadata": {
    "collapsed": false
   },
   "outputs": [
    {
     "name": "stdout",
     "output_type": "stream",
     "text": [
      "{'Will': 122, 'Jack': 277}\n"
     ]
    }
   ],
   "source": [
    "for i in all_words:\n",
    "    if i == 'Jack':\n",
    "        leading_man[i] += 1\n",
    "    if i == 'Will':\n",
    "        leading_man[i] += 1\n",
    "    \n",
    "print(leading_man)"
   ]
  },
  {
   "cell_type": "code",
   "execution_count": 33,
   "metadata": {
    "collapsed": false
   },
   "outputs": [
    {
     "name": "stdout",
     "output_type": "stream",
     "text": [
      "Jack is the real leading man in this movie.\n"
     ]
    }
   ],
   "source": [
    "if leading_man.get('Jack') > leading_man.get('Will'):\n",
    "    print('Jack is the real leading man in this movie.')\n",
    "else:\n",
    "    print('Will is the real leading man in this movie.')"
   ]
  },
  {
   "cell_type": "code",
   "execution_count": null,
   "metadata": {
    "collapsed": true
   },
   "outputs": [],
   "source": []
  },
  {
   "cell_type": "code",
   "execution_count": null,
   "metadata": {
    "collapsed": true
   },
   "outputs": [],
   "source": []
  }
 ],
 "metadata": {
  "anaconda-cloud": {},
  "kernelspec": {
   "display_name": "Python [conda root]",
   "language": "python",
   "name": "conda-root-py"
  },
  "language_info": {
   "codemirror_mode": {
    "name": "ipython",
    "version": 3
   },
   "file_extension": ".py",
   "mimetype": "text/x-python",
   "name": "python",
   "nbconvert_exporter": "python",
   "pygments_lexer": "ipython3",
   "version": "3.5.2"
  }
 },
 "nbformat": 4,
 "nbformat_minor": 1
}
